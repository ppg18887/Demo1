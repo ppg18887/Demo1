{
  "cells": [
    {
      "cell_type": "markdown",
      "metadata": {
        "id": "view-in-github",
        "colab_type": "text"
      },
      "source": [
        "<a href=\"https://colab.research.google.com/github/ppg18887/Demo1/blob/master/EffecientDet_Lite_sample.ipynb\" target=\"_parent\"><img src=\"https://colab.research.google.com/assets/colab-badge.svg\" alt=\"Open In Colab\"/></a>"
      ]
    },
    {
      "cell_type": "code",
      "execution_count": null,
      "metadata": {
        "colab": {
          "base_uri": "https://localhost:8080/"
        },
        "id": "blysg4dxUeat",
        "outputId": "c79cbf33-9d34-4001-d18e-b72466b1be68"
      },
      "outputs": [
        {
          "name": "stdout",
          "output_type": "stream",
          "text": [
            "Reading package lists... Done\n",
            "Building dependency tree       \n",
            "Reading state information... Done\n",
            "The following package was automatically installed and is no longer required:\n",
            "  libnvidia-common-460\n",
            "Use 'sudo apt autoremove' to remove it.\n",
            "The following NEW packages will be installed:\n",
            "  libportaudio2\n",
            "0 upgraded, 1 newly installed, 0 to remove and 20 not upgraded.\n",
            "Need to get 64.6 kB of archives.\n",
            "After this operation, 215 kB of additional disk space will be used.\n",
            "Get:1 http://archive.ubuntu.com/ubuntu bionic/universe amd64 libportaudio2 amd64 19.6.0-1 [64.6 kB]\n",
            "Fetched 64.6 kB in 1s (81.9 kB/s)\n",
            "debconf: unable to initialize frontend: Dialog\n",
            "debconf: (No usable dialog-like program is installed, so the dialog based frontend cannot be used. at /usr/share/perl5/Debconf/FrontEnd/Dialog.pm line 76, <> line 1.)\n",
            "debconf: falling back to frontend: Readline\n",
            "debconf: unable to initialize frontend: Readline\n",
            "debconf: (This frontend requires a controlling tty.)\n",
            "debconf: falling back to frontend: Teletype\n",
            "dpkg-preconfigure: unable to re-open stdin: \n",
            "Selecting previously unselected package libportaudio2:amd64.\n",
            "(Reading database ... 155569 files and directories currently installed.)\n",
            "Preparing to unpack .../libportaudio2_19.6.0-1_amd64.deb ...\n",
            "Unpacking libportaudio2:amd64 (19.6.0-1) ...\n",
            "Setting up libportaudio2:amd64 (19.6.0-1) ...\n",
            "Processing triggers for libc-bin (2.27-3ubuntu1.5) ...\n",
            "\u001b[K     |████████████████████████████████| 577 kB 29.1 MB/s \n",
            "\u001b[K     |████████████████████████████████| 87 kB 6.0 MB/s \n",
            "\u001b[K     |████████████████████████████████| 238 kB 60.3 MB/s \n",
            "\u001b[K     |████████████████████████████████| 60.2 MB 1.3 MB/s \n",
            "\u001b[K     |████████████████████████████████| 77 kB 5.7 MB/s \n",
            "\u001b[K     |████████████████████████████████| 840 kB 65.4 MB/s \n",
            "\u001b[K     |████████████████████████████████| 10.9 MB 1.1 MB/s \n",
            "\u001b[K     |████████████████████████████████| 128 kB 68.8 MB/s \n",
            "\u001b[K     |████████████████████████████████| 1.1 MB 67.1 MB/s \n",
            "\u001b[K     |████████████████████████████████| 3.4 MB 60.8 MB/s \n",
            "\u001b[K     |████████████████████████████████| 1.3 MB 45.7 MB/s \n",
            "\u001b[K     |████████████████████████████████| 213 kB 77.9 MB/s \n",
            "\u001b[K     |████████████████████████████████| 40 kB 4.9 MB/s \n",
            "\u001b[K     |████████████████████████████████| 352 kB 73.9 MB/s \n",
            "\u001b[K     |████████████████████████████████| 99 kB 8.7 MB/s \n",
            "\u001b[K     |████████████████████████████████| 25.3 MB 1.5 MB/s \n",
            "\u001b[?25h  Building wheel for fire (setup.py) ... \u001b[?25l\u001b[?25hdone\n",
            "  Building wheel for py-cpuinfo (setup.py) ... \u001b[?25l\u001b[?25hdone\n",
            "\u001b[31mERROR: pip's legacy dependency resolver does not consider dependency conflicts when selecting packages. This behaviour is the source of the following dependency conflicts.\n",
            "tflite-support 0.4.2 requires protobuf<4,>=3.18.0, but you'll have protobuf 3.17.3 which is incompatible.\u001b[0m\n",
            "\u001b[K     |████████████████████████████████| 21.8 MB 1.2 MB/s \n",
            "\u001b[?25hFound existing installation: tensorflow 2.8.2+zzzcolab20220719082949\n",
            "Uninstalling tensorflow-2.8.2+zzzcolab20220719082949:\n",
            "  Successfully uninstalled tensorflow-2.8.2+zzzcolab20220719082949\n",
            "\u001b[K     |████████████████████████████████| 668.3 MB 17 kB/s \n",
            "\u001b[K     |████████████████████████████████| 462 kB 37.2 MB/s \n",
            "\u001b[?25h"
          ]
        }
      ],
      "source": [
        "!sudo apt -y install libportaudio2\n",
        "!pip install -q --use-deprecated=legacy-resolver tflite-model-maker\n",
        "!pip install -q pycocotools\n",
        "!pip install -q opencv-python-headless==4.1.2.30\n",
        "!pip uninstall -y tensorflow && pip install -q tensorflow==2.8.0"
      ]
    },
    {
      "cell_type": "code",
      "execution_count": null,
      "metadata": {
        "colab": {
          "base_uri": "https://localhost:8080/",
          "height": 1000
        },
        "id": "Dvc3AvAJaorn",
        "outputId": "87aba173-3d66-40b1-8735-2d61a749aef8"
      },
      "outputs": [
        {
          "name": "stdout",
          "output_type": "stream",
          "text": [
            "Looking in indexes: https://pypi.org/simple, https://us-python.pkg.dev/colab-wheels/public/simple/\n",
            "Collecting tflite-runtime\n",
            "  Downloading tflite_runtime-2.10.0-cp37-cp37m-manylinux2014_x86_64.whl (2.5 MB)\n",
            "\u001b[K     |████████████████████████████████| 2.5 MB 23.4 MB/s \n",
            "\u001b[?25hRequirement already satisfied: numpy>=1.19.2 in /usr/local/lib/python3.7/dist-packages (from tflite-runtime) (1.21.6)\n",
            "Installing collected packages: tflite-runtime\n",
            "Successfully installed tflite-runtime-2.10.0\n",
            "Looking in indexes: https://pypi.org/simple, https://us-python.pkg.dev/colab-wheels/public/simple/\n",
            "Requirement already satisfied: tflite_model_maker in /usr/local/lib/python3.7/dist-packages (0.4.2)\n",
            "Requirement already satisfied: flatbuffers>=2.0 in /usr/local/lib/python3.7/dist-packages (from tflite_model_maker) (2.0.7)\n",
            "Requirement already satisfied: pillow>=7.0.0 in /usr/local/lib/python3.7/dist-packages (from tflite_model_maker) (7.1.2)\n",
            "Requirement already satisfied: tensorflow-addons>=0.11.2 in /usr/local/lib/python3.7/dist-packages (from tflite_model_maker) (0.18.0)\n",
            "Requirement already satisfied: fire>=0.3.1 in /usr/local/lib/python3.7/dist-packages (from tflite_model_maker) (0.4.0)\n",
            "Requirement already satisfied: tensorflowjs<3.19.0,>=2.4.0 in /usr/local/lib/python3.7/dist-packages (from tflite_model_maker) (3.18.0)\n",
            "Requirement already satisfied: tensorflow>=2.6.0 in /usr/local/lib/python3.7/dist-packages (from tflite_model_maker) (2.8.0+zzzcolab20220506162203)\n",
            "Requirement already satisfied: absl-py>=0.10.0 in /usr/local/lib/python3.7/dist-packages (from tflite_model_maker) (1.2.0)\n",
            "Requirement already satisfied: tensorflow-datasets>=2.1.0 in /usr/local/lib/python3.7/dist-packages (from tflite_model_maker) (4.6.0)\n",
            "Requirement already satisfied: numpy>=1.17.3 in /usr/local/lib/python3.7/dist-packages (from tflite_model_maker) (1.21.6)\n",
            "Requirement already satisfied: librosa==0.8.1 in /usr/local/lib/python3.7/dist-packages (from tflite_model_maker) (0.8.1)\n",
            "Requirement already satisfied: tf-models-official==2.3.0 in /usr/local/lib/python3.7/dist-packages (from tflite_model_maker) (2.3.0)\n",
            "Requirement already satisfied: scann==1.2.6 in /usr/local/lib/python3.7/dist-packages (from tflite_model_maker) (1.2.6)\n",
            "Requirement already satisfied: tflite-support>=0.4.2 in /usr/local/lib/python3.7/dist-packages (from tflite_model_maker) (0.4.2)\n",
            "Requirement already satisfied: sentencepiece>=0.1.91 in /usr/local/lib/python3.7/dist-packages (from tflite_model_maker) (0.1.97)\n",
            "Requirement already satisfied: tensorflow-model-optimization>=0.5 in /usr/local/lib/python3.7/dist-packages (from tflite_model_maker) (0.7.3)\n",
            "Requirement already satisfied: PyYAML>=5.1 in /usr/local/lib/python3.7/dist-packages (from tflite_model_maker) (6.0)\n",
            "Requirement already satisfied: tensorflow-hub<0.13,>=0.7.0 in /usr/local/lib/python3.7/dist-packages (from tflite_model_maker) (0.12.0)\n",
            "Requirement already satisfied: numba==0.53 in /usr/local/lib/python3.7/dist-packages (from tflite_model_maker) (0.53.0)\n",
            "Requirement already satisfied: neural-structured-learning>=1.3.1 in /usr/local/lib/python3.7/dist-packages (from tflite_model_maker) (1.4.0)\n",
            "Requirement already satisfied: urllib3!=1.25.0,!=1.25.1,<1.26,>=1.21.1 in /usr/local/lib/python3.7/dist-packages (from tflite_model_maker) (1.24.3)\n",
            "Requirement already satisfied: Cython>=0.29.13 in /usr/local/lib/python3.7/dist-packages (from tflite_model_maker) (0.29.32)\n",
            "Requirement already satisfied: matplotlib<3.5.0,>=3.0.3 in /usr/local/lib/python3.7/dist-packages (from tflite_model_maker) (3.2.2)\n",
            "Requirement already satisfied: lxml>=4.6.1 in /usr/local/lib/python3.7/dist-packages (from tflite_model_maker) (4.9.1)\n",
            "Requirement already satisfied: six>=1.12.0 in /usr/local/lib/python3.7/dist-packages (from tflite_model_maker) (1.15.0)\n",
            "Requirement already satisfied: pooch>=1.0 in /usr/local/lib/python3.7/dist-packages (from librosa==0.8.1->tflite_model_maker) (1.6.0)\n",
            "Requirement already satisfied: soundfile>=0.10.2 in /usr/local/lib/python3.7/dist-packages (from librosa==0.8.1->tflite_model_maker) (0.10.3.post1)\n",
            "Requirement already satisfied: packaging>=20.0 in /usr/local/lib/python3.7/dist-packages (from librosa==0.8.1->tflite_model_maker) (20.9)\n",
            "Requirement already satisfied: audioread>=2.0.0 in /usr/local/lib/python3.7/dist-packages (from librosa==0.8.1->tflite_model_maker) (3.0.0)\n",
            "Requirement already satisfied: joblib>=0.14 in /usr/local/lib/python3.7/dist-packages (from librosa==0.8.1->tflite_model_maker) (1.1.0)\n",
            "Requirement already satisfied: scikit-learn!=0.19.0,>=0.14.0 in /usr/local/lib/python3.7/dist-packages (from librosa==0.8.1->tflite_model_maker) (1.0.2)\n",
            "Requirement already satisfied: decorator>=3.0.0 in /usr/local/lib/python3.7/dist-packages (from librosa==0.8.1->tflite_model_maker) (4.4.2)\n",
            "Requirement already satisfied: resampy>=0.2.2 in /usr/local/lib/python3.7/dist-packages (from librosa==0.8.1->tflite_model_maker) (0.4.0)\n",
            "Requirement already satisfied: scipy>=1.0.0 in /usr/local/lib/python3.7/dist-packages (from librosa==0.8.1->tflite_model_maker) (1.7.3)\n",
            "Requirement already satisfied: llvmlite<0.37,>=0.36.0rc1 in /usr/local/lib/python3.7/dist-packages (from numba==0.53->tflite_model_maker) (0.36.0)\n",
            "Requirement already satisfied: setuptools in /usr/local/lib/python3.7/dist-packages (from numba==0.53->tflite_model_maker) (57.4.0)\n",
            "Requirement already satisfied: google-api-python-client>=1.6.7 in /usr/local/lib/python3.7/dist-packages (from tf-models-official==2.3.0->tflite_model_maker) (1.12.11)\n",
            "Requirement already satisfied: gin-config in /usr/local/lib/python3.7/dist-packages (from tf-models-official==2.3.0->tflite_model_maker) (0.5.0)\n",
            "Requirement already satisfied: opencv-python-headless in /usr/local/lib/python3.7/dist-packages (from tf-models-official==2.3.0->tflite_model_maker) (4.1.2.30)\n",
            "Requirement already satisfied: dataclasses in /usr/local/lib/python3.7/dist-packages (from tf-models-official==2.3.0->tflite_model_maker) (0.6)\n",
            "Requirement already satisfied: psutil>=5.4.3 in /usr/local/lib/python3.7/dist-packages (from tf-models-official==2.3.0->tflite_model_maker) (5.4.8)\n",
            "Requirement already satisfied: pandas>=0.22.0 in /usr/local/lib/python3.7/dist-packages (from tf-models-official==2.3.0->tflite_model_maker) (1.3.5)\n",
            "Requirement already satisfied: kaggle>=1.3.9 in /usr/local/lib/python3.7/dist-packages (from tf-models-official==2.3.0->tflite_model_maker) (1.5.12)\n",
            "Requirement already satisfied: py-cpuinfo>=3.3.0 in /usr/local/lib/python3.7/dist-packages (from tf-models-official==2.3.0->tflite_model_maker) (8.0.0)\n",
            "Requirement already satisfied: google-cloud-bigquery>=0.31.0 in /usr/local/lib/python3.7/dist-packages (from tf-models-official==2.3.0->tflite_model_maker) (1.21.0)\n",
            "Requirement already satisfied: tf-slim>=1.1.0 in /usr/local/lib/python3.7/dist-packages (from tf-models-official==2.3.0->tflite_model_maker) (1.1.0)\n",
            "Requirement already satisfied: termcolor in /usr/local/lib/python3.7/dist-packages (from fire>=0.3.1->tflite_model_maker) (1.1.0)\n",
            "Requirement already satisfied: uritemplate<4dev,>=3.0.0 in /usr/local/lib/python3.7/dist-packages (from google-api-python-client>=1.6.7->tf-models-official==2.3.0->tflite_model_maker) (3.0.1)\n",
            "Requirement already satisfied: google-auth<3dev,>=1.16.0 in /usr/local/lib/python3.7/dist-packages (from google-api-python-client>=1.6.7->tf-models-official==2.3.0->tflite_model_maker) (1.35.0)\n",
            "Requirement already satisfied: google-auth-httplib2>=0.0.3 in /usr/local/lib/python3.7/dist-packages (from google-api-python-client>=1.6.7->tf-models-official==2.3.0->tflite_model_maker) (0.0.4)\n",
            "Requirement already satisfied: google-api-core<3dev,>=1.21.0 in /usr/local/lib/python3.7/dist-packages (from google-api-python-client>=1.6.7->tf-models-official==2.3.0->tflite_model_maker) (1.31.6)\n",
            "Requirement already satisfied: httplib2<1dev,>=0.15.0 in /usr/local/lib/python3.7/dist-packages (from google-api-python-client>=1.6.7->tf-models-official==2.3.0->tflite_model_maker) (0.17.4)\n",
            "Requirement already satisfied: requests<3.0.0dev,>=2.18.0 in /usr/local/lib/python3.7/dist-packages (from google-api-core<3dev,>=1.21.0->google-api-python-client>=1.6.7->tf-models-official==2.3.0->tflite_model_maker) (2.23.0)\n",
            "Requirement already satisfied: pytz in /usr/local/lib/python3.7/dist-packages (from google-api-core<3dev,>=1.21.0->google-api-python-client>=1.6.7->tf-models-official==2.3.0->tflite_model_maker) (2022.2.1)\n",
            "Requirement already satisfied: googleapis-common-protos<2.0dev,>=1.6.0 in /usr/local/lib/python3.7/dist-packages (from google-api-core<3dev,>=1.21.0->google-api-python-client>=1.6.7->tf-models-official==2.3.0->tflite_model_maker) (1.56.4)\n",
            "Requirement already satisfied: protobuf<4.0.0dev,>=3.12.0 in /usr/local/lib/python3.7/dist-packages (from google-api-core<3dev,>=1.21.0->google-api-python-client>=1.6.7->tf-models-official==2.3.0->tflite_model_maker) (3.17.3)\n",
            "Requirement already satisfied: rsa<5,>=3.1.4 in /usr/local/lib/python3.7/dist-packages (from google-auth<3dev,>=1.16.0->google-api-python-client>=1.6.7->tf-models-official==2.3.0->tflite_model_maker) (4.9)\n",
            "Requirement already satisfied: pyasn1-modules>=0.2.1 in /usr/local/lib/python3.7/dist-packages (from google-auth<3dev,>=1.16.0->google-api-python-client>=1.6.7->tf-models-official==2.3.0->tflite_model_maker) (0.2.8)\n",
            "Requirement already satisfied: cachetools<5.0,>=2.0.0 in /usr/local/lib/python3.7/dist-packages (from google-auth<3dev,>=1.16.0->google-api-python-client>=1.6.7->tf-models-official==2.3.0->tflite_model_maker) (4.2.4)\n",
            "Requirement already satisfied: google-cloud-core<2.0dev,>=1.0.3 in /usr/local/lib/python3.7/dist-packages (from google-cloud-bigquery>=0.31.0->tf-models-official==2.3.0->tflite_model_maker) (1.0.3)\n",
            "Requirement already satisfied: google-resumable-media!=0.4.0,<0.5.0dev,>=0.3.1 in /usr/local/lib/python3.7/dist-packages (from google-cloud-bigquery>=0.31.0->tf-models-official==2.3.0->tflite_model_maker) (0.4.1)\n",
            "Requirement already satisfied: tqdm in /usr/local/lib/python3.7/dist-packages (from kaggle>=1.3.9->tf-models-official==2.3.0->tflite_model_maker) (4.64.1)\n",
            "Requirement already satisfied: python-dateutil in /usr/local/lib/python3.7/dist-packages (from kaggle>=1.3.9->tf-models-official==2.3.0->tflite_model_maker) (2.8.2)\n",
            "Requirement already satisfied: certifi in /usr/local/lib/python3.7/dist-packages (from kaggle>=1.3.9->tf-models-official==2.3.0->tflite_model_maker) (2022.6.15)\n",
            "Requirement already satisfied: python-slugify in /usr/local/lib/python3.7/dist-packages (from kaggle>=1.3.9->tf-models-official==2.3.0->tflite_model_maker) (6.1.2)\n",
            "Requirement already satisfied: cycler>=0.10 in /usr/local/lib/python3.7/dist-packages (from matplotlib<3.5.0,>=3.0.3->tflite_model_maker) (0.11.0)\n",
            "Requirement already satisfied: pyparsing!=2.0.4,!=2.1.2,!=2.1.6,>=2.0.1 in /usr/local/lib/python3.7/dist-packages (from matplotlib<3.5.0,>=3.0.3->tflite_model_maker) (3.0.9)\n",
            "Requirement already satisfied: kiwisolver>=1.0.1 in /usr/local/lib/python3.7/dist-packages (from matplotlib<3.5.0,>=3.0.3->tflite_model_maker) (1.4.4)\n",
            "Requirement already satisfied: typing-extensions in /usr/local/lib/python3.7/dist-packages (from kiwisolver>=1.0.1->matplotlib<3.5.0,>=3.0.3->tflite_model_maker) (4.1.1)\n",
            "Requirement already satisfied: attrs in /usr/local/lib/python3.7/dist-packages (from neural-structured-learning>=1.3.1->tflite_model_maker) (22.1.0)\n",
            "Requirement already satisfied: appdirs>=1.3.0 in /usr/local/lib/python3.7/dist-packages (from pooch>=1.0->librosa==0.8.1->tflite_model_maker) (1.4.4)\n",
            "Requirement already satisfied: pyasn1<0.5.0,>=0.4.6 in /usr/local/lib/python3.7/dist-packages (from pyasn1-modules>=0.2.1->google-auth<3dev,>=1.16.0->google-api-python-client>=1.6.7->tf-models-official==2.3.0->tflite_model_maker) (0.4.8)\n",
            "Requirement already satisfied: idna<3,>=2.5 in /usr/local/lib/python3.7/dist-packages (from requests<3.0.0dev,>=2.18.0->google-api-core<3dev,>=1.21.0->google-api-python-client>=1.6.7->tf-models-official==2.3.0->tflite_model_maker) (2.10)\n",
            "Requirement already satisfied: chardet<4,>=3.0.2 in /usr/local/lib/python3.7/dist-packages (from requests<3.0.0dev,>=2.18.0->google-api-core<3dev,>=1.21.0->google-api-python-client>=1.6.7->tf-models-official==2.3.0->tflite_model_maker) (3.0.4)\n",
            "Requirement already satisfied: threadpoolctl>=2.0.0 in /usr/local/lib/python3.7/dist-packages (from scikit-learn!=0.19.0,>=0.14.0->librosa==0.8.1->tflite_model_maker) (3.1.0)\n",
            "Requirement already satisfied: cffi>=1.0 in /usr/local/lib/python3.7/dist-packages (from soundfile>=0.10.2->librosa==0.8.1->tflite_model_maker) (1.15.1)\n",
            "Requirement already satisfied: pycparser in /usr/local/lib/python3.7/dist-packages (from cffi>=1.0->soundfile>=0.10.2->librosa==0.8.1->tflite_model_maker) (2.21)\n",
            "Requirement already satisfied: libclang>=9.0.1 in /usr/local/lib/python3.7/dist-packages (from tensorflow>=2.6.0->tflite_model_maker) (14.0.6)\n",
            "Requirement already satisfied: keras-preprocessing>=1.1.1 in /usr/local/lib/python3.7/dist-packages (from tensorflow>=2.6.0->tflite_model_maker) (1.1.2)\n",
            "Requirement already satisfied: astunparse>=1.6.0 in /usr/local/lib/python3.7/dist-packages (from tensorflow>=2.6.0->tflite_model_maker) (1.6.3)\n",
            "Requirement already satisfied: tensorflow-io-gcs-filesystem>=0.23.1 in /usr/local/lib/python3.7/dist-packages (from tensorflow>=2.6.0->tflite_model_maker) (0.26.0)\n",
            "Requirement already satisfied: wrapt>=1.11.0 in /usr/local/lib/python3.7/dist-packages (from tensorflow>=2.6.0->tflite_model_maker) (1.14.1)\n",
            "Requirement already satisfied: grpcio<2.0,>=1.24.3 in /usr/local/lib/python3.7/dist-packages (from tensorflow>=2.6.0->tflite_model_maker) (1.48.1)\n",
            "Requirement already satisfied: h5py>=2.9.0 in /usr/local/lib/python3.7/dist-packages (from tensorflow>=2.6.0->tflite_model_maker) (3.1.0)\n",
            "Requirement already satisfied: keras<2.9,>=2.8.0rc0 in /usr/local/lib/python3.7/dist-packages (from tensorflow>=2.6.0->tflite_model_maker) (2.8.0)\n",
            "Requirement already satisfied: tensorboard<2.9,>=2.8 in /usr/local/lib/python3.7/dist-packages (from tensorflow>=2.6.0->tflite_model_maker) (2.8.0)\n",
            "Requirement already satisfied: gast>=0.2.1 in /usr/local/lib/python3.7/dist-packages (from tensorflow>=2.6.0->tflite_model_maker) (0.5.3)\n",
            "Requirement already satisfied: tf-estimator-nightly==2.8.0.dev2021122109 in /usr/local/lib/python3.7/dist-packages (from tensorflow>=2.6.0->tflite_model_maker) (2.8.0.dev2021122109)\n",
            "Requirement already satisfied: opt-einsum>=2.3.2 in /usr/local/lib/python3.7/dist-packages (from tensorflow>=2.6.0->tflite_model_maker) (3.3.0)\n",
            "Requirement already satisfied: google-pasta>=0.1.1 in /usr/local/lib/python3.7/dist-packages (from tensorflow>=2.6.0->tflite_model_maker) (0.2.0)\n",
            "Requirement already satisfied: wheel<1.0,>=0.23.0 in /usr/local/lib/python3.7/dist-packages (from astunparse>=1.6.0->tensorflow>=2.6.0->tflite_model_maker) (0.37.1)\n",
            "Requirement already satisfied: cached-property in /usr/local/lib/python3.7/dist-packages (from h5py>=2.9.0->tensorflow>=2.6.0->tflite_model_maker) (1.5.2)\n",
            "Requirement already satisfied: werkzeug>=0.11.15 in /usr/local/lib/python3.7/dist-packages (from tensorboard<2.9,>=2.8->tensorflow>=2.6.0->tflite_model_maker) (1.0.1)\n",
            "Requirement already satisfied: google-auth-oauthlib<0.5,>=0.4.1 in /usr/local/lib/python3.7/dist-packages (from tensorboard<2.9,>=2.8->tensorflow>=2.6.0->tflite_model_maker) (0.4.6)\n",
            "Requirement already satisfied: markdown>=2.6.8 in /usr/local/lib/python3.7/dist-packages (from tensorboard<2.9,>=2.8->tensorflow>=2.6.0->tflite_model_maker) (3.4.1)\n",
            "Requirement already satisfied: tensorboard-data-server<0.7.0,>=0.6.0 in /usr/local/lib/python3.7/dist-packages (from tensorboard<2.9,>=2.8->tensorflow>=2.6.0->tflite_model_maker) (0.6.1)\n",
            "Requirement already satisfied: tensorboard-plugin-wit>=1.6.0 in /usr/local/lib/python3.7/dist-packages (from tensorboard<2.9,>=2.8->tensorflow>=2.6.0->tflite_model_maker) (1.8.1)\n",
            "Requirement already satisfied: requests-oauthlib>=0.7.0 in /usr/local/lib/python3.7/dist-packages (from google-auth-oauthlib<0.5,>=0.4.1->tensorboard<2.9,>=2.8->tensorflow>=2.6.0->tflite_model_maker) (1.3.1)\n",
            "Requirement already satisfied: importlib-metadata>=4.4 in /usr/local/lib/python3.7/dist-packages (from markdown>=2.6.8->tensorboard<2.9,>=2.8->tensorflow>=2.6.0->tflite_model_maker) (4.12.0)\n",
            "Requirement already satisfied: zipp>=0.5 in /usr/local/lib/python3.7/dist-packages (from importlib-metadata>=4.4->markdown>=2.6.8->tensorboard<2.9,>=2.8->tensorflow>=2.6.0->tflite_model_maker) (3.8.1)\n",
            "Requirement already satisfied: oauthlib>=3.0.0 in /usr/local/lib/python3.7/dist-packages (from requests-oauthlib>=0.7.0->google-auth-oauthlib<0.5,>=0.4.1->tensorboard<2.9,>=2.8->tensorflow>=2.6.0->tflite_model_maker) (3.2.0)\n",
            "Requirement already satisfied: typeguard>=2.7 in /usr/local/lib/python3.7/dist-packages (from tensorflow-addons>=0.11.2->tflite_model_maker) (2.7.1)\n",
            "Requirement already satisfied: promise in /usr/local/lib/python3.7/dist-packages (from tensorflow-datasets>=2.1.0->tflite_model_maker) (2.3)\n",
            "Requirement already satisfied: etils[epath] in /usr/local/lib/python3.7/dist-packages (from tensorflow-datasets>=2.1.0->tflite_model_maker) (0.7.1)\n",
            "Requirement already satisfied: dill in /usr/local/lib/python3.7/dist-packages (from tensorflow-datasets>=2.1.0->tflite_model_maker) (0.3.5.1)\n",
            "Requirement already satisfied: importlib-resources in /usr/local/lib/python3.7/dist-packages (from tensorflow-datasets>=2.1.0->tflite_model_maker) (5.9.0)\n",
            "Requirement already satisfied: toml in /usr/local/lib/python3.7/dist-packages (from tensorflow-datasets>=2.1.0->tflite_model_maker) (0.10.2)\n",
            "Requirement already satisfied: tensorflow-metadata in /usr/local/lib/python3.7/dist-packages (from tensorflow-datasets>=2.1.0->tflite_model_maker) (1.10.0)\n",
            "Requirement already satisfied: dm-tree~=0.1.1 in /usr/local/lib/python3.7/dist-packages (from tensorflow-model-optimization>=0.5->tflite_model_maker) (0.1.7)\n",
            "Requirement already satisfied: sounddevice>=0.4.4 in /usr/local/lib/python3.7/dist-packages (from tflite-support>=0.4.2->tflite_model_maker) (0.4.5)\n",
            "Requirement already satisfied: pybind11>=2.6.0 in /usr/local/lib/python3.7/dist-packages (from tflite-support>=0.4.2->tflite_model_maker) (2.10.0)\n",
            "Collecting protobuf<4.0.0dev,>=3.12.0\n",
            "  Downloading protobuf-3.20.2-cp37-cp37m-manylinux_2_5_x86_64.manylinux1_x86_64.whl (1.0 MB)\n",
            "\u001b[K     |████████████████████████████████| 1.0 MB 28.7 MB/s \n",
            "\u001b[?25hRequirement already satisfied: text-unidecode>=1.3 in /usr/local/lib/python3.7/dist-packages (from python-slugify->kaggle>=1.3.9->tf-models-official==2.3.0->tflite_model_maker) (1.3)\n",
            "Installing collected packages: protobuf\n",
            "  Attempting uninstall: protobuf\n",
            "    Found existing installation: protobuf 3.17.3\n",
            "    Uninstalling protobuf-3.17.3:\n",
            "      Successfully uninstalled protobuf-3.17.3\n",
            "Successfully installed protobuf-3.20.2\n"
          ]
        },
        {
          "data": {
            "application/vnd.colab-display-data+json": {
              "pip_warning": {
                "packages": [
                  "google"
                ]
              }
            }
          },
          "metadata": {},
          "output_type": "display_data"
        }
      ],
      "source": [
        "\n",
        "!pip install tflite-runtime\n",
        "!pip install tflite_model_maker"
      ]
    },
    {
      "cell_type": "code",
      "execution_count": null,
      "metadata": {
        "id": "XtxiUeZEiXpt"
      },
      "outputs": [],
      "source": [
        "import numpy as np\n",
        "import os\n",
        "\n",
        "from tflite_model_maker.config import QuantizationConfig\n",
        "from tflite_model_maker.config import ExportFormat\n",
        "from tflite_model_maker import model_spec\n",
        "from tflite_model_maker import object_detector\n",
        "\n",
        "import tensorflow as tf\n",
        "assert tf.__version__.startswith('2')\n",
        "\n",
        "tf.get_logger().setLevel('ERROR')\n",
        "from absl import logging\n",
        "logging.set_verbosity(logging.ERROR)"
      ]
    },
    {
      "cell_type": "markdown",
      "metadata": {
        "id": "f-SMk4J8dLjb"
      },
      "source": [
        "Getting efficientdet model"
      ]
    },
    {
      "cell_type": "code",
      "execution_count": null,
      "metadata": {
        "id": "3gYghluycJeW"
      },
      "outputs": [],
      "source": [
        "spec = model_spec.get('efficientdet_lite0')"
      ]
    },
    {
      "cell_type": "code",
      "execution_count": null,
      "metadata": {
        "id": "bThni1eZcr4H"
      },
      "outputs": [],
      "source": [
        "#training data with dataset from google cloud(salad data set)\n",
        "train_data, validation_data, test_data = object_detector.DataLoader.from_csv('gs://cloud-ml-data/img/openimage/csv/salads_ml_use.csv')"
      ]
    },
    {
      "cell_type": "code",
      "execution_count": null,
      "metadata": {
        "colab": {
          "base_uri": "https://localhost:8080/"
        },
        "id": "kwlYdTcg63xy",
        "outputId": "242681dd-b99a-486d-ad66-ff38a12311db"
      },
      "outputs": [
        {
          "name": "stdout",
          "output_type": "stream",
          "text": [
            "Epoch 1/50\n",
            "21/21 [==============================] - 73s 1s/step - det_loss: 1.7576 - cls_loss: 1.1345 - box_loss: 0.0125 - reg_l2_loss: 0.0635 - loss: 1.8211 - learning_rate: 0.0090 - gradient_norm: 0.8282 - val_det_loss: 1.6379 - val_cls_loss: 1.0773 - val_box_loss: 0.0112 - val_reg_l2_loss: 0.0635 - val_loss: 1.7014\n",
            "Epoch 2/50\n",
            "21/21 [==============================] - 23s 1s/step - det_loss: 1.5940 - cls_loss: 1.0607 - box_loss: 0.0107 - reg_l2_loss: 0.0635 - loss: 1.6575 - learning_rate: 0.0100 - gradient_norm: 1.0935 - val_det_loss: 1.4223 - val_cls_loss: 0.9008 - val_box_loss: 0.0104 - val_reg_l2_loss: 0.0635 - val_loss: 1.4858\n",
            "Epoch 3/50\n",
            "21/21 [==============================] - 29s 1s/step - det_loss: 1.3922 - cls_loss: 0.9077 - box_loss: 0.0097 - reg_l2_loss: 0.0635 - loss: 1.4557 - learning_rate: 0.0099 - gradient_norm: 1.8404 - val_det_loss: 1.3421 - val_cls_loss: 0.8482 - val_box_loss: 0.0099 - val_reg_l2_loss: 0.0635 - val_loss: 1.4056\n",
            "Epoch 4/50\n",
            "21/21 [==============================] - 31s 2s/step - det_loss: 1.2560 - cls_loss: 0.7912 - box_loss: 0.0093 - reg_l2_loss: 0.0635 - loss: 1.3195 - learning_rate: 0.0099 - gradient_norm: 1.8278 - val_det_loss: 1.2535 - val_cls_loss: 0.7887 - val_box_loss: 0.0093 - val_reg_l2_loss: 0.0635 - val_loss: 1.3171\n",
            "Epoch 5/50\n",
            "21/21 [==============================] - 37s 2s/step - det_loss: 1.1319 - cls_loss: 0.7080 - box_loss: 0.0085 - reg_l2_loss: 0.0635 - loss: 1.1954 - learning_rate: 0.0098 - gradient_norm: 1.7185 - val_det_loss: 1.1972 - val_cls_loss: 0.7447 - val_box_loss: 0.0091 - val_reg_l2_loss: 0.0636 - val_loss: 1.2608\n",
            "Epoch 6/50\n",
            "21/21 [==============================] - 26s 1s/step - det_loss: 1.1054 - cls_loss: 0.7047 - box_loss: 0.0080 - reg_l2_loss: 0.0636 - loss: 1.1690 - learning_rate: 0.0097 - gradient_norm: 1.7726 - val_det_loss: 1.1532 - val_cls_loss: 0.7110 - val_box_loss: 0.0088 - val_reg_l2_loss: 0.0636 - val_loss: 1.2168\n",
            "Epoch 7/50\n",
            "21/21 [==============================] - 29s 1s/step - det_loss: 1.0402 - cls_loss: 0.6640 - box_loss: 0.0075 - reg_l2_loss: 0.0636 - loss: 1.1038 - learning_rate: 0.0096 - gradient_norm: 1.7665 - val_det_loss: 1.0743 - val_cls_loss: 0.6778 - val_box_loss: 0.0079 - val_reg_l2_loss: 0.0636 - val_loss: 1.1378\n",
            "Epoch 8/50\n",
            "21/21 [==============================] - 29s 1s/step - det_loss: 0.9944 - cls_loss: 0.6531 - box_loss: 0.0068 - reg_l2_loss: 0.0636 - loss: 1.0579 - learning_rate: 0.0094 - gradient_norm: 1.9337 - val_det_loss: 1.0593 - val_cls_loss: 0.6655 - val_box_loss: 0.0079 - val_reg_l2_loss: 0.0636 - val_loss: 1.1229\n",
            "Epoch 9/50\n",
            "21/21 [==============================] - 28s 1s/step - det_loss: 0.9654 - cls_loss: 0.6131 - box_loss: 0.0070 - reg_l2_loss: 0.0636 - loss: 1.0289 - learning_rate: 0.0093 - gradient_norm: 1.8973 - val_det_loss: 1.0372 - val_cls_loss: 0.6415 - val_box_loss: 0.0079 - val_reg_l2_loss: 0.0636 - val_loss: 1.1008\n",
            "Epoch 10/50\n",
            "21/21 [==============================] - 33s 2s/step - det_loss: 0.9581 - cls_loss: 0.6116 - box_loss: 0.0069 - reg_l2_loss: 0.0636 - loss: 1.0217 - learning_rate: 0.0091 - gradient_norm: 2.0676 - val_det_loss: 1.0289 - val_cls_loss: 0.6048 - val_box_loss: 0.0085 - val_reg_l2_loss: 0.0636 - val_loss: 1.0925\n",
            "Epoch 11/50\n",
            "21/21 [==============================] - 27s 1s/step - det_loss: 0.9352 - cls_loss: 0.6059 - box_loss: 0.0066 - reg_l2_loss: 0.0636 - loss: 0.9988 - learning_rate: 0.0089 - gradient_norm: 2.1021 - val_det_loss: 1.0024 - val_cls_loss: 0.6003 - val_box_loss: 0.0080 - val_reg_l2_loss: 0.0636 - val_loss: 1.0660\n",
            "Epoch 12/50\n",
            "21/21 [==============================] - 27s 1s/step - det_loss: 0.8819 - cls_loss: 0.5745 - box_loss: 0.0061 - reg_l2_loss: 0.0636 - loss: 0.9455 - learning_rate: 0.0087 - gradient_norm: 2.0333 - val_det_loss: 0.9994 - val_cls_loss: 0.6373 - val_box_loss: 0.0072 - val_reg_l2_loss: 0.0636 - val_loss: 1.0630\n",
            "Epoch 13/50\n",
            "21/21 [==============================] - 28s 1s/step - det_loss: 0.8678 - cls_loss: 0.5740 - box_loss: 0.0059 - reg_l2_loss: 0.0636 - loss: 0.9314 - learning_rate: 0.0085 - gradient_norm: 2.1775 - val_det_loss: 1.0253 - val_cls_loss: 0.6824 - val_box_loss: 0.0069 - val_reg_l2_loss: 0.0636 - val_loss: 1.0890\n",
            "Epoch 14/50\n",
            "21/21 [==============================] - 28s 1s/step - det_loss: 0.8402 - cls_loss: 0.5468 - box_loss: 0.0059 - reg_l2_loss: 0.0636 - loss: 0.9038 - learning_rate: 0.0082 - gradient_norm: 2.0482 - val_det_loss: 0.9740 - val_cls_loss: 0.6405 - val_box_loss: 0.0067 - val_reg_l2_loss: 0.0636 - val_loss: 1.0377\n",
            "Epoch 15/50\n",
            "21/21 [==============================] - 35s 2s/step - det_loss: 0.8571 - cls_loss: 0.5593 - box_loss: 0.0060 - reg_l2_loss: 0.0636 - loss: 0.9208 - learning_rate: 0.0080 - gradient_norm: 2.3000 - val_det_loss: 0.9717 - val_cls_loss: 0.6481 - val_box_loss: 0.0065 - val_reg_l2_loss: 0.0636 - val_loss: 1.0353\n",
            "Epoch 16/50\n",
            "21/21 [==============================] - 25s 1s/step - det_loss: 0.8065 - cls_loss: 0.5261 - box_loss: 0.0056 - reg_l2_loss: 0.0636 - loss: 0.8702 - learning_rate: 0.0077 - gradient_norm: 2.2287 - val_det_loss: 0.9784 - val_cls_loss: 0.6472 - val_box_loss: 0.0066 - val_reg_l2_loss: 0.0636 - val_loss: 1.0420\n",
            "Epoch 17/50\n",
            "21/21 [==============================] - 26s 1s/step - det_loss: 0.8069 - cls_loss: 0.5272 - box_loss: 0.0056 - reg_l2_loss: 0.0636 - loss: 0.8706 - learning_rate: 0.0075 - gradient_norm: 2.2107 - val_det_loss: 0.9540 - val_cls_loss: 0.6272 - val_box_loss: 0.0065 - val_reg_l2_loss: 0.0636 - val_loss: 1.0176\n",
            "Epoch 18/50\n",
            "21/21 [==============================] - 30s 1s/step - det_loss: 0.8083 - cls_loss: 0.5301 - box_loss: 0.0056 - reg_l2_loss: 0.0637 - loss: 0.8719 - learning_rate: 0.0072 - gradient_norm: 2.2987 - val_det_loss: 0.9250 - val_cls_loss: 0.6118 - val_box_loss: 0.0063 - val_reg_l2_loss: 0.0637 - val_loss: 0.9887\n",
            "Epoch 19/50\n",
            "21/21 [==============================] - 29s 1s/step - det_loss: 0.8072 - cls_loss: 0.5318 - box_loss: 0.0055 - reg_l2_loss: 0.0637 - loss: 0.8708 - learning_rate: 0.0069 - gradient_norm: 2.3371 - val_det_loss: 0.9192 - val_cls_loss: 0.6075 - val_box_loss: 0.0062 - val_reg_l2_loss: 0.0637 - val_loss: 0.9828\n",
            "Epoch 20/50\n",
            "21/21 [==============================] - 34s 2s/step - det_loss: 0.7594 - cls_loss: 0.5013 - box_loss: 0.0052 - reg_l2_loss: 0.0637 - loss: 0.8230 - learning_rate: 0.0066 - gradient_norm: 2.3838 - val_det_loss: 0.9470 - val_cls_loss: 0.6299 - val_box_loss: 0.0063 - val_reg_l2_loss: 0.0637 - val_loss: 1.0106\n",
            "Epoch 21/50\n",
            "21/21 [==============================] - 25s 1s/step - det_loss: 0.7327 - cls_loss: 0.4841 - box_loss: 0.0050 - reg_l2_loss: 0.0637 - loss: 0.7964 - learning_rate: 0.0063 - gradient_norm: 2.3176 - val_det_loss: 0.9715 - val_cls_loss: 0.6523 - val_box_loss: 0.0064 - val_reg_l2_loss: 0.0637 - val_loss: 1.0351\n",
            "Epoch 22/50\n",
            "21/21 [==============================] - 28s 1s/step - det_loss: 0.7413 - cls_loss: 0.4870 - box_loss: 0.0051 - reg_l2_loss: 0.0637 - loss: 0.8050 - learning_rate: 0.0060 - gradient_norm: 2.5504 - val_det_loss: 0.9327 - val_cls_loss: 0.6161 - val_box_loss: 0.0063 - val_reg_l2_loss: 0.0637 - val_loss: 0.9964\n",
            "Epoch 23/50\n",
            "21/21 [==============================] - 29s 1s/step - det_loss: 0.7427 - cls_loss: 0.4935 - box_loss: 0.0050 - reg_l2_loss: 0.0637 - loss: 0.8064 - learning_rate: 0.0056 - gradient_norm: 2.3461 - val_det_loss: 0.9014 - val_cls_loss: 0.6008 - val_box_loss: 0.0060 - val_reg_l2_loss: 0.0637 - val_loss: 0.9651\n",
            "Epoch 24/50\n",
            "21/21 [==============================] - 30s 1s/step - det_loss: 0.7251 - cls_loss: 0.4773 - box_loss: 0.0050 - reg_l2_loss: 0.0637 - loss: 0.7888 - learning_rate: 0.0053 - gradient_norm: 2.3871 - val_det_loss: 0.8959 - val_cls_loss: 0.6002 - val_box_loss: 0.0059 - val_reg_l2_loss: 0.0637 - val_loss: 0.9596\n",
            "Epoch 25/50\n",
            "21/21 [==============================] - 33s 2s/step - det_loss: 0.7152 - cls_loss: 0.4736 - box_loss: 0.0048 - reg_l2_loss: 0.0637 - loss: 0.7789 - learning_rate: 0.0050 - gradient_norm: 2.3998 - val_det_loss: 0.8407 - val_cls_loss: 0.5522 - val_box_loss: 0.0058 - val_reg_l2_loss: 0.0637 - val_loss: 0.9043\n",
            "Epoch 26/50\n",
            "21/21 [==============================] - 25s 1s/step - det_loss: 0.7034 - cls_loss: 0.4692 - box_loss: 0.0047 - reg_l2_loss: 0.0637 - loss: 0.7671 - learning_rate: 0.0047 - gradient_norm: 2.5588 - val_det_loss: 0.8899 - val_cls_loss: 0.5961 - val_box_loss: 0.0059 - val_reg_l2_loss: 0.0637 - val_loss: 0.9536\n",
            "Epoch 27/50\n",
            "21/21 [==============================] - 29s 1s/step - det_loss: 0.6960 - cls_loss: 0.4570 - box_loss: 0.0048 - reg_l2_loss: 0.0637 - loss: 0.7596 - learning_rate: 0.0044 - gradient_norm: 2.4622 - val_det_loss: 0.9351 - val_cls_loss: 0.6343 - val_box_loss: 0.0060 - val_reg_l2_loss: 0.0637 - val_loss: 0.9987\n",
            "Epoch 28/50\n",
            "21/21 [==============================] - 29s 1s/step - det_loss: 0.7218 - cls_loss: 0.4725 - box_loss: 0.0050 - reg_l2_loss: 0.0637 - loss: 0.7855 - learning_rate: 0.0040 - gradient_norm: 2.4654 - val_det_loss: 0.8669 - val_cls_loss: 0.5800 - val_box_loss: 0.0057 - val_reg_l2_loss: 0.0637 - val_loss: 0.9306\n",
            "Epoch 29/50\n",
            "21/21 [==============================] - 28s 1s/step - det_loss: 0.7088 - cls_loss: 0.4638 - box_loss: 0.0049 - reg_l2_loss: 0.0637 - loss: 0.7725 - learning_rate: 0.0037 - gradient_norm: 2.5964 - val_det_loss: 0.8963 - val_cls_loss: 0.6033 - val_box_loss: 0.0059 - val_reg_l2_loss: 0.0637 - val_loss: 0.9600\n",
            "Epoch 30/50\n",
            "21/21 [==============================] - 34s 2s/step - det_loss: 0.7026 - cls_loss: 0.4620 - box_loss: 0.0048 - reg_l2_loss: 0.0637 - loss: 0.7663 - learning_rate: 0.0034 - gradient_norm: 2.6920 - val_det_loss: 0.8636 - val_cls_loss: 0.5837 - val_box_loss: 0.0056 - val_reg_l2_loss: 0.0637 - val_loss: 0.9273\n",
            "Epoch 31/50\n",
            "21/21 [==============================] - 25s 1s/step - det_loss: 0.6791 - cls_loss: 0.4538 - box_loss: 0.0045 - reg_l2_loss: 0.0637 - loss: 0.7428 - learning_rate: 0.0031 - gradient_norm: 2.5185 - val_det_loss: 0.8657 - val_cls_loss: 0.5719 - val_box_loss: 0.0059 - val_reg_l2_loss: 0.0637 - val_loss: 0.9294\n",
            "Epoch 32/50\n",
            "21/21 [==============================] - 28s 1s/step - det_loss: 0.6938 - cls_loss: 0.4582 - box_loss: 0.0047 - reg_l2_loss: 0.0637 - loss: 0.7575 - learning_rate: 0.0028 - gradient_norm: 2.4379 - val_det_loss: 0.8891 - val_cls_loss: 0.5969 - val_box_loss: 0.0058 - val_reg_l2_loss: 0.0637 - val_loss: 0.9528\n",
            "Epoch 33/50\n",
            "21/21 [==============================] - 28s 1s/step - det_loss: 0.6906 - cls_loss: 0.4531 - box_loss: 0.0048 - reg_l2_loss: 0.0637 - loss: 0.7543 - learning_rate: 0.0025 - gradient_norm: 2.5787 - val_det_loss: 0.8840 - val_cls_loss: 0.5787 - val_box_loss: 0.0061 - val_reg_l2_loss: 0.0637 - val_loss: 0.9477\n",
            "Epoch 34/50\n",
            "21/21 [==============================] - 28s 1s/step - det_loss: 0.6802 - cls_loss: 0.4481 - box_loss: 0.0046 - reg_l2_loss: 0.0637 - loss: 0.7439 - learning_rate: 0.0023 - gradient_norm: 2.5503 - val_det_loss: 0.8714 - val_cls_loss: 0.5681 - val_box_loss: 0.0061 - val_reg_l2_loss: 0.0637 - val_loss: 0.9351\n",
            "Epoch 35/50\n",
            "21/21 [==============================] - 34s 2s/step - det_loss: 0.6596 - cls_loss: 0.4348 - box_loss: 0.0045 - reg_l2_loss: 0.0637 - loss: 0.7233 - learning_rate: 0.0020 - gradient_norm: 2.2185 - val_det_loss: 0.8463 - val_cls_loss: 0.5519 - val_box_loss: 0.0059 - val_reg_l2_loss: 0.0637 - val_loss: 0.9100\n",
            "Epoch 36/50\n",
            "21/21 [==============================] - 25s 1s/step - det_loss: 0.7031 - cls_loss: 0.4604 - box_loss: 0.0049 - reg_l2_loss: 0.0637 - loss: 0.7667 - learning_rate: 0.0018 - gradient_norm: 2.5504 - val_det_loss: 0.8349 - val_cls_loss: 0.5406 - val_box_loss: 0.0059 - val_reg_l2_loss: 0.0637 - val_loss: 0.8985\n",
            "Epoch 37/50\n",
            "21/21 [==============================] - 28s 1s/step - det_loss: 0.6428 - cls_loss: 0.4237 - box_loss: 0.0044 - reg_l2_loss: 0.0637 - loss: 0.7065 - learning_rate: 0.0015 - gradient_norm: 2.4592 - val_det_loss: 0.8418 - val_cls_loss: 0.5427 - val_box_loss: 0.0060 - val_reg_l2_loss: 0.0637 - val_loss: 0.9055\n",
            "Epoch 38/50\n",
            "21/21 [==============================] - 27s 1s/step - det_loss: 0.6663 - cls_loss: 0.4382 - box_loss: 0.0046 - reg_l2_loss: 0.0637 - loss: 0.7300 - learning_rate: 0.0013 - gradient_norm: 2.5584 - val_det_loss: 0.8454 - val_cls_loss: 0.5388 - val_box_loss: 0.0061 - val_reg_l2_loss: 0.0637 - val_loss: 0.9091\n",
            "Epoch 39/50\n",
            "21/21 [==============================] - 29s 1s/step - det_loss: 0.6495 - cls_loss: 0.4286 - box_loss: 0.0044 - reg_l2_loss: 0.0637 - loss: 0.7132 - learning_rate: 0.0011 - gradient_norm: 2.4145 - val_det_loss: 0.8395 - val_cls_loss: 0.5362 - val_box_loss: 0.0061 - val_reg_l2_loss: 0.0637 - val_loss: 0.9032\n",
            "Epoch 40/50\n",
            "21/21 [==============================] - 34s 2s/step - det_loss: 0.6648 - cls_loss: 0.4460 - box_loss: 0.0044 - reg_l2_loss: 0.0637 - loss: 0.7285 - learning_rate: 9.0029e-04 - gradient_norm: 2.6728 - val_det_loss: 0.8425 - val_cls_loss: 0.5409 - val_box_loss: 0.0060 - val_reg_l2_loss: 0.0637 - val_loss: 0.9062\n",
            "Epoch 41/50\n",
            "21/21 [==============================] - 25s 1s/step - det_loss: 0.6534 - cls_loss: 0.4336 - box_loss: 0.0044 - reg_l2_loss: 0.0637 - loss: 0.7171 - learning_rate: 7.2543e-04 - gradient_norm: 2.5615 - val_det_loss: 0.8452 - val_cls_loss: 0.5427 - val_box_loss: 0.0061 - val_reg_l2_loss: 0.0637 - val_loss: 0.9089\n",
            "Epoch 42/50\n",
            "21/21 [==============================] - 26s 1s/step - det_loss: 0.6665 - cls_loss: 0.4385 - box_loss: 0.0046 - reg_l2_loss: 0.0637 - loss: 0.7302 - learning_rate: 5.6814e-04 - gradient_norm: 2.4161 - val_det_loss: 0.8273 - val_cls_loss: 0.5275 - val_box_loss: 0.0060 - val_reg_l2_loss: 0.0637 - val_loss: 0.8909\n",
            "Epoch 43/50\n",
            "21/21 [==============================] - 29s 1s/step - det_loss: 0.6439 - cls_loss: 0.4292 - box_loss: 0.0043 - reg_l2_loss: 0.0637 - loss: 0.7076 - learning_rate: 4.2906e-04 - gradient_norm: 2.3743 - val_det_loss: 0.8329 - val_cls_loss: 0.5320 - val_box_loss: 0.0060 - val_reg_l2_loss: 0.0637 - val_loss: 0.8966\n",
            "Epoch 44/50\n",
            "21/21 [==============================] - 28s 1s/step - det_loss: 0.6322 - cls_loss: 0.4172 - box_loss: 0.0043 - reg_l2_loss: 0.0637 - loss: 0.6959 - learning_rate: 3.0876e-04 - gradient_norm: 2.2525 - val_det_loss: 0.8350 - val_cls_loss: 0.5320 - val_box_loss: 0.0061 - val_reg_l2_loss: 0.0637 - val_loss: 0.8987\n",
            "Epoch 45/50\n",
            "21/21 [==============================] - 36s 2s/step - det_loss: 0.6168 - cls_loss: 0.4048 - box_loss: 0.0042 - reg_l2_loss: 0.0637 - loss: 0.6805 - learning_rate: 2.0774e-04 - gradient_norm: 2.2475 - val_det_loss: 0.8362 - val_cls_loss: 0.5330 - val_box_loss: 0.0061 - val_reg_l2_loss: 0.0637 - val_loss: 0.8999\n",
            "Epoch 46/50\n",
            "21/21 [==============================] - 25s 1s/step - det_loss: 0.6138 - cls_loss: 0.4053 - box_loss: 0.0042 - reg_l2_loss: 0.0637 - loss: 0.6775 - learning_rate: 1.2641e-04 - gradient_norm: 2.3612 - val_det_loss: 0.8330 - val_cls_loss: 0.5307 - val_box_loss: 0.0060 - val_reg_l2_loss: 0.0637 - val_loss: 0.8967\n",
            "Epoch 47/50\n",
            "21/21 [==============================] - 28s 1s/step - det_loss: 0.6550 - cls_loss: 0.4335 - box_loss: 0.0044 - reg_l2_loss: 0.0637 - loss: 0.7187 - learning_rate: 6.5107e-05 - gradient_norm: 2.6492 - val_det_loss: 0.8340 - val_cls_loss: 0.5317 - val_box_loss: 0.0060 - val_reg_l2_loss: 0.0637 - val_loss: 0.8977\n",
            "Epoch 48/50\n",
            "21/21 [==============================] - 28s 1s/step - det_loss: 0.6367 - cls_loss: 0.4158 - box_loss: 0.0044 - reg_l2_loss: 0.0637 - loss: 0.7004 - learning_rate: 2.4083e-05 - gradient_norm: 2.3720 - val_det_loss: 0.8352 - val_cls_loss: 0.5329 - val_box_loss: 0.0060 - val_reg_l2_loss: 0.0637 - val_loss: 0.8989\n",
            "Epoch 49/50\n",
            "21/21 [==============================] - 27s 1s/step - det_loss: 0.6594 - cls_loss: 0.4358 - box_loss: 0.0045 - reg_l2_loss: 0.0637 - loss: 0.7231 - learning_rate: 3.5074e-06 - gradient_norm: 2.5554 - val_det_loss: 0.8359 - val_cls_loss: 0.5335 - val_box_loss: 0.0060 - val_reg_l2_loss: 0.0637 - val_loss: 0.8996\n",
            "Epoch 50/50\n",
            "21/21 [==============================] - 36s 2s/step - det_loss: 0.6545 - cls_loss: 0.4364 - box_loss: 0.0044 - reg_l2_loss: 0.0637 - loss: 0.7182 - learning_rate: 3.4629e-06 - gradient_norm: 2.5233 - val_det_loss: 0.8351 - val_cls_loss: 0.5330 - val_box_loss: 0.0060 - val_reg_l2_loss: 0.0637 - val_loss: 0.8988\n"
          ]
        }
      ],
      "source": [
        "#Training the model\n",
        "model = object_detector.create(train_data, model_spec=spec, batch_size=8, train_whole_model=True, validation_data=validation_data)"
      ]
    },
    {
      "cell_type": "code",
      "execution_count": null,
      "metadata": {
        "colab": {
          "base_uri": "https://localhost:8080/"
        },
        "id": "8xmnl6Yy7ARn",
        "outputId": "7e8b660b-74ed-4d30-8570-d9e9491c99fb"
      },
      "outputs": [
        {
          "name": "stdout",
          "output_type": "stream",
          "text": [
            "\r1/1 [==============================] - 8s 8s/step\n",
            "\n"
          ]
        },
        {
          "data": {
            "text/plain": [
              "{'AP': 0.20542076,\n",
              " 'AP50': 0.34563583,\n",
              " 'AP75': 0.22947279,\n",
              " 'APs': -1.0,\n",
              " 'APm': 0.254003,\n",
              " 'APl': 0.20526282,\n",
              " 'ARmax1': 0.16840129,\n",
              " 'ARmax10': 0.34327206,\n",
              " 'ARmax100': 0.38093138,\n",
              " 'ARs': -1.0,\n",
              " 'ARm': 0.44166666,\n",
              " 'ARl': 0.38037223,\n",
              " 'AP_/Baked Goods': 0.03187447,\n",
              " 'AP_/Salad': 0.5737052,\n",
              " 'AP_/Cheese': 0.17079881,\n",
              " 'AP_/Seafood': 0.045285594,\n",
              " 'AP_/Tomato': 0.2054397}"
            ]
          },
          "execution_count": 9,
          "metadata": {},
          "output_type": "execute_result"
        }
      ],
      "source": [
        "model.evaluate(test_data)"
      ]
    },
    {
      "cell_type": "code",
      "execution_count": null,
      "metadata": {
        "colab": {
          "background_save": true
        },
        "id": "j1BKCUeRJOcN"
      },
      "outputs": [],
      "source": [
        "model.export(export_dir='.')"
      ]
    }
  ],
  "metadata": {
    "accelerator": "GPU",
    "colab": {
      "provenance": [],
      "authorship_tag": "ABX9TyNjwhF2bMPHkkddZSwA85CY",
      "include_colab_link": true
    },
    "kernelspec": {
      "display_name": "Python 3",
      "name": "python3"
    },
    "language_info": {
      "name": "python"
    }
  },
  "nbformat": 4,
  "nbformat_minor": 0
}