{
  "nbformat": 4,
  "nbformat_minor": 0,
  "metadata": {
    "colab": {
      "provenance": [],
      "authorship_tag": "ABX9TyNsOCaVQGRAtxXGyVstNrSg",
      "include_colab_link": true
    },
    "kernelspec": {
      "name": "python3",
      "display_name": "Python 3"
    },
    "language_info": {
      "name": "python"
    }
  },
  "cells": [
    {
      "cell_type": "markdown",
      "metadata": {
        "id": "view-in-github",
        "colab_type": "text"
      },
      "source": [
        "<a href=\"https://colab.research.google.com/github/ppg18887/Demo1/blob/master/Multimodal_and_multi_task_version1.ipynb\" target=\"_parent\"><img src=\"https://colab.research.google.com/assets/colab-badge.svg\" alt=\"Open In Colab\"/></a>"
      ]
    },
    {
      "cell_type": "code",
      "execution_count": null,
      "metadata": {
        "id": "o4tEbaJwFfF_"
      },
      "outputs": [],
      "source": [
        "!pip install autokeras\n",
        "!pip install tensorflow==2.2.0rc2."
      ]
    },
    {
      "cell_type": "code",
      "source": [
        "import os\n",
        "import shutil\n",
        "\n",
        "import numpy as np\n",
        "import tensorflow as tf\n",
        "\n",
        "import autokeras as ak"
      ],
      "metadata": {
        "id": "lqxc6vaRGbjX"
      },
      "execution_count": 28,
      "outputs": []
    },
    {
      "cell_type": "code",
      "source": [
        "from tensorflow._api.v2.compat.v1 import int8\n",
        "import numpy as np\n",
        "import os\n",
        "tf.config.run_functions_eagerly(True)\n",
        "#from tensorflow.keras.preprocessing.image import img_to_array, load_img\n",
        "import pandas as pd\n",
        "#Loading images from google cloud\n",
        "dataset_url = \"https://storage.googleapis.com/download.tensorflow.org/example_images/flower_photos.tgz\"  # noqa: E501\n",
        "local_file_path = tf.keras.utils.get_file(origin=dataset_url, fname=\"image_data\", extract=True)\n",
        "\n",
        "# The file is extracted in the same directory as the downloaded file.\n",
        "local_dir_path = os.path.dirname(local_file_path)\n",
        "# After check mannually, we know the extracted data is in 'flower_photos'.\n",
        "data_dir = os.path.join(local_dir_path, \"flower_photos\")\n",
        "print(data_dir)\n",
        "#img = tf.keras.preprocessing.image.load_img(image_file)\n",
        "\n",
        "\n",
        "\n",
        "\n",
        "#dividing images into training data and validation data\n",
        "\n",
        "batch_size = 32\n",
        "img_height = 180\n",
        "img_width = 180\n",
        "\n",
        "image_train_data = tf.keras.utils.image_dataset_from_directory(\n",
        "  data_dir,\n",
        "  validation_split=0.2,\n",
        "  subset=\"training\",\n",
        "  seed=123,\n",
        "  image_size=(img_height, img_width),\n",
        "  batch_size=batch_size\n",
        "  )\n",
        "#conversio to ndarray\n",
        "for image_batch, labels_batch in image_train_data:\n",
        "  train_image=image_batch.numpy()\n",
        "  #print(train_image)\n",
        "  print(train_image.shape)\n",
        "  #print(labels_batch.shape)\n",
        "  break\n",
        "\n",
        "\n",
        "image_test_data = tf.keras.utils.image_dataset_from_directory(\n",
        "    data_dir,\n",
        "    validation_split=0.2,\n",
        "    subset=\"validation\",\n",
        "    seed=123,\n",
        "    image_size=(img_height, img_width),\n",
        "    batch_size=batch_size,\n",
        ")\n",
        "\n"
      ],
      "metadata": {
        "colab": {
          "base_uri": "https://localhost:8080/"
        },
        "id": "X6Sn46aHGnCP",
        "outputId": "193dc562-c34c-4218-b414-1d436be88626"
      },
      "execution_count": 52,
      "outputs": [
        {
          "output_type": "stream",
          "name": "stdout",
          "text": [
            "/root/.keras/datasets/flower_photos\n",
            "Found 3670 files belonging to 5 classes.\n",
            "Using 2936 files for training.\n"
          ]
        },
        {
          "output_type": "stream",
          "name": "stderr",
          "text": [
            "/usr/local/lib/python3.7/dist-packages/tensorflow/python/data/ops/structured_function.py:265: UserWarning: Even though the `tf.config.experimental_run_functions_eagerly` option is set, this option does not apply to tf.data functions. To force eager execution of tf.data functions, please use `tf.data.experimental.enable_debug_mode()`.\n",
            "  \"Even though the `tf.config.experimental_run_functions_eagerly` \"\n"
          ]
        },
        {
          "output_type": "stream",
          "name": "stdout",
          "text": [
            "(32, 180, 180, 3)\n",
            "Found 3670 files belonging to 5 classes.\n",
            "Using 734 files for validation.\n"
          ]
        }
      ]
    },
    {
      "cell_type": "code",
      "source": [
        "structured_data = np.random.rand(100, 100).astype(np.float32)"
      ],
      "metadata": {
        "id": "gWZqw1qVox3k"
      },
      "execution_count": 55,
      "outputs": []
    },
    {
      "cell_type": "code",
      "source": [
        "from autokeras.tasks import structured_data\n",
        "#Loading text data\n",
        "dataset_url = \"http://ai.stanford.edu/~amaas/data/sentiment/aclImdb_v1.tar.gz\"\n",
        "\n",
        "local_file_path = tf.keras.utils.get_file(\n",
        "    fname=\"text_data\",\n",
        "    origin=dataset_url,\n",
        "    extract=True,\n",
        ")\n",
        "# The file is extracted in the same directory as the downloaded file.\n",
        "local_dir_path = os.path.dirname(local_file_path)\n",
        "# After check mannually, we know the extracted data is in 'aclImdb'.\n",
        "data_dir = os.path.join(local_dir_path, \"aclImdb\")\n",
        "print(data_dir)\n",
        "\n",
        "#Preparing training data and test data\n",
        "structured_data = tf.keras.utils.text_dataset_from_directory(\n",
        "    data_dir,\n",
        "    batch_size=32,\n",
        "    validation_split=0.2,\n",
        "    subset='training',\n",
        "    seed=42)\n",
        "for text_batch, text_label in structured_data:\n",
        "  train_text=text_batch.numpy()\n",
        "  print(train_text)\n",
        "  #print(labels_batch.shape)\n",
        "  break\n",
        "\n",
        "structured_test_data = tf.keras.utils.text_dataset_from_directory(\n",
        "    os.path.join(data_dir, \"test\"), shuffle=False, batch_size=batch_size\n",
        ")\n",
        "for test_batch, test_label in structured_data:\n",
        "  test_text=test_batch.numpy()\n",
        "  print(type(test_text))\n",
        "  print(test_text.shape)\n",
        "  #print(labels_batch.shape)\n",
        "  break\n",
        "\n",
        "# Remove the unused data folder.\n",
        "\n",
        "shutil.rmtree(os.path.join(data_dir, \"train/unsup\"))"
      ],
      "metadata": {
        "colab": {
          "base_uri": "https://localhost:8080/"
        },
        "id": "dxwbvj4pG3mH",
        "outputId": "82b6ea73-d310-4780-a1be-55b0b71ad878"
      },
      "execution_count": 51,
      "outputs": [
        {
          "output_type": "stream",
          "name": "stdout",
          "text": [
            "/root/.keras/datasets/aclImdb\n",
            "Found 100005 files belonging to 2 classes.\n",
            "Using 80004 files for training.\n"
          ]
        },
        {
          "output_type": "stream",
          "name": "stderr",
          "text": [
            "/usr/local/lib/python3.7/dist-packages/tensorflow/python/data/ops/structured_function.py:265: UserWarning: Even though the `tf.config.experimental_run_functions_eagerly` option is set, this option does not apply to tf.data functions. To force eager execution of tf.data functions, please use `tf.data.experimental.enable_debug_mode()`.\n",
            "  \"Even though the `tf.config.experimental_run_functions_eagerly` \"\n"
          ]
        },
        {
          "output_type": "stream",
          "name": "stdout",
          "text": [
            "[b\"I've tried to reconcile why so many bad reviews of this film, while the vast majority of reviews are given a rating of between 7 and 10. The reason may be this film is kind of hard to describe in a positive review, although a few have done that quite nicely already. This film is confusing, depressing, and doesn't have a happy ending. I still gave Pola X a rating of 10, because it is basically for me literature and art combined on film. That is really my favorite kind of filmmaking. I've only seen two of Carax's films: this one and Mauvis Sang. As with this film, I'm being somewhat pretentious when I call this one of Carax's best films- but I am. Carax has a minimalist style. If that type of film does not appeal to you and is boring, then it would be best not to watch this. But Pola X was less minimalist than Mauvis Sang, so it had quite a lot of intensity for a thriller- at least for my taste. I found it quite interesting and absorbing. The two lead roles did an excellent job acting. (I mean the lead and the young woman he thought was his half sister.) Catherine D. is always great, but her role was not very large or significant in the story. But everyone did a fine job. I thought the cult stuff was great. It may have not been very believable, but that is due to its being rather abstract. There is a lot going on between the lines in this film. This is a very Freudian psycho-thriller.\"\n",
            " b'A fine cast (Douglas, Paltrow, Mortensen, Suchet) was wasted in this feeble attempt. There were simply too many illogical holes to ignore and at the end you will feel cheated. I\\'ll list just a few as examples. I would encourage you read on, so you may save your money and go rent Hitchcock\\'s original instead. <br /><br />*****SPOILERS AHEAD*****<br /><br />1. David was just a con artist, so what made Steven think he could be turned into a hired killer?. Sure enough it didn\\'t work, did it?<br /><br />2. In fact, David as a con artist was much more likely to try blackmail. Sure enough, David tapped the incriminating conversation. Now that he had the tape, he could easily get $400K (or even more) from Steven. So why bother to kill (or contract out some thug to kill) Emily at all?? This is totally ABSURD. David just wanted to con some money and get out of town as he always did, with no incentive to kill his lover at this stage.<br /><br />3. When detective Karaman mentioned the missing key, Emily said nothing and went into Latino slum and tried to play detective herself. It just does not make any sense. Emily obviously would not protect Steven at that point since she not only didn\\'t love him anymore but also had a reasonable belief that the thug was hired by her husband to kill her for her inheritance. Moreover, she and Karaman clearly developed a sense of mutual trust, so she logically would show Karaman the missing key and let him do the investigation (after all he\\'s a police).<br /><br />4. The explanation Steven tried to spin on Emily about the missing key did not make sense at all. He claimed he took the key, put it on Emily\\'s key chain and jammed the door lock because he thought the thug was David getting in with Emily\\'s key and he tried to protect Emily\\'s reputation. Then, he claimed the thug turned out to be just a burglar. Well, if that thug did not use Emily\\'s key and did not pick the lock, how on earth he got in??<br /><br />5\\xc2\\x85...<br /><br />I did find one quote to be ironically hilarious. When they met at the ferry, Steven told David that they should wait and carry on business as usual. When Steven started to walk away, David asked, with a deadpan face, \"Should I continue screw your wife?\"<br /><br />'\n",
            " b'First off...with names like Fred Olen Ray, Brinke Stevens and Jan-Michael Vincent, plus distributors like \"Rhino\" and \"Troma\" on the video box, you know what you\\'re getting into with this one. B movie mania! If you\\'re actually expecting to see a thriller \"based on Edgar Allan Poe,\" then forget it and head straight for the excellent series of Roger Corman 60s Poe films. This is pure, unadulterated sleaze (with just a pedestrian attempt at a plot similar to \"The Premature Burial\"), complete with lots of R-rated, ready-for-video sex and nudity. However, it\\'s certainly entertaining and fun in a slipshod kind of way...<br /><br />Brinke (who has three nude scenes in the first 30 minutes) plays rich, traumatized, insomniac housewife Victoria Monroe, whose fear of being prematurely entombed stems from her belief that the same fate befell her father (Hoke Howell). Her worthless husband Terry (Jay Richardson) has racked up some serious gambling debt (owed to a gangster played by Robert Quarry) and, with help from his kinky, blonde, European-accented sexpot secretary Lisa (Delia Sheppard) plots to do away with Brinke for her money. Name-value actress Karen Black drops in briefly wearing a blonde wig as a hypnotist (she\\'s way too talented to be playing an insignificant role like this), 50s sci-fi/horror star Robert Clarke plays a doctor and family friend and Michael Berryman shows up for a decent nightmare sequence performing an autopsy on a still-living Vicki. Jan-Michael Vincent mostly sits outside a house in his car making goo-goo eyes as Brinke enters and exits the home.<br /><br />The kill-a-spouse-for-the-inheritance plot has been done a million times before, the ending is an unintentional laugh riot (concluding with a direct rip-off of the Zuni Fetish Doll segment in TRILOGY OF TERROR) and whoever created the awful stabbed face and decapitated head FX for this release needs to sharpen up on their skills a bit. Brinke does a decent job making her character somewhat sympathetic, but the biggest surprise of all is how good former Penthouse Pet Delia Sheppard is in her role. She stole every scene she was in and easily gave the standout performance here.'\n",
            " b\"If ever there was a film that can be considered a missed opportunity then that film is Galaxina. What could possibly be wrong in basing a sci-fi film around a sexy statuesque female android? Surely such a film could never be a complete waste of time? Well, sadly this movie is pretty close to useless. There are a number of faults with this production it has to be said, however, there are two basic problems that entirely destroy the whole enterprise. Firstly, this is a comedy with no funny bits at all, or at the very least a film where the potentially amusing aspects are presented in an incredibly unamusing way. Secondly, the title character is woefully underused. This may be because Dorothy Stratten was not really an actress but if so it was a terrible decision as she is still easily the best thing about the film. I don't think she really needed to be a great thespian to pull off the role of a sexy android to be perfectly honest. Anyway, what we are left with is a whole lot of mind-numbing comedy relief, which often is made up of hopeless spoof-type gags of the big sci-fi hits of the time such as Alien, Star Wars and 2001. It's badly written and not funny at all, and it doesn't even really have a plot to propel things along. The story basically is about a police space-cruiser that is sent to get a rock. That's it! Steven Spielberg once said that a high-concept movie was one whose plot line could be described in one sentence. What he didn't define was what you call a movie that can be described in less than a sentence - pointless maybe?<br /><br />This seemed like a sure-fire winner to me but it failed miserably. It seems to have been an attempt to spoof Star Wars and combine it with adult comedy situations. All it does actually achieve is to leave you cold and a little irritated that it wasn't close to what it should've been. A Barbarella for the 80's this ain't.<br /><br />Shortly after this film was finished Dorothy Stratten was murdered in an appallingly violent and horrific way. And for that reason Galaxina has derived a considerable amount of it's cult interest. I just think it's a great shame that Dorothy didn't have a better film left to immortalise her.\"\n",
            " b\"I just watched this movie last night and thought it was awesome! The movie did spark some weird discussions with my significant other about upper deckers, but the point is that it generated conversation. It's rare to find a movie that makes you think about life, responsibility, and poop. Forget the dude that made the Sixth Sense -- this is the best movie ever made in Bucks County, and does far more service to its lovely citizens and scenery. Well done, especially considering this is director von Manahan's first full-length film. I, for one, can't wait to see what else he has in store.<br /><br />Oh, and Bill Tanner is a freakin' matin\\xc3\\xa9e idol.\"\n",
            " b'Much has been made by other reviewers about how \"Shanghai Kiss\" breaks away from the unflattering stereotypes that dog Asian men in American popular culture. And to be sure, I\\'m glad to see these folks playing roles other than martial artist or math geek. But in its relentless quest to show that, yes, an Asian guy can indeed sleep with white chicks, this movie gives us an entirely unsympathetic main character and throws him into completely implausible situations.<br /><br />Nowhere do we see why it is that Ken Leung\\'s character is such a babe magnet. Instead, we get someone who is shallow, egotistical, moody, immature, and just plain annoying. And he\\'s not even especially handsome, either (though he does have a sort of boyish cuteness). In short, there\\'s nothing particularly desirable or appealing about this guy. Yet, inexplicably, the ladies just can\\'t get enough of him.<br /><br />And as if the fact that the protagonist is totally irritating isn\\'t enough to detract from our enjoyment of the movie, there\\'s also the rank implausibility of the storyline. I mean, how often do attractive women (of any race) blatantly throw themselves at random strangers (again, of any race) on public buses? Or, when someone just steps off a trans-Pacific airline flight, how likely is it that they are immediately going to go someplace where -- you guessed it -- women are eagerly waiting to pleasure him? To me, the whole thing smacked of the film makers shouting out as loudly as they can, \"Hey, look at this! Asian guys can get some action in bed!\" Well, OK, that\\'s swell, I guess. But somehow, I don\\'t think that making our \"hero\" out to be as unappealing and unsympathetic as possible, while putting him into completely implausible and unbelievable situations, advances the cause of Asian male de-stereotyping.<br /><br />Full disclosure: I hit my limit and stopped watching the movie about a half-hour into it (right after the main character arrived in Shanghai). So that\\'s why I\\'m giving it two stars, because maybe it got better after that. But as for me, I\\'m afraid I\\'ll just have to keep hoping that maybe someday I\\'ll find a non-stereotypical Asian guy in the movies who\\'s actually worth spending some time with.'\n",
            " b'I\\'m not much for \"cop\" movies, but this one is supposedly a classic & when I found it cheap I bought it and stuck it on a shelf, only to finally get around to watching it yesterday, and I LIKED it! Now, you can have New York City, but as a setting for a film like this, in the winter months, it\\'s perfect. Roy Scheider is a member of an elite police task group called The Seven Ups, which are 5 guys that fight crime undercover. In an opening scene they recover a shoebox full of money from an antique store by distracting the crooks with a \"bull in a china shop\" routine. But that\\'s only the beginning. Seems that there are two guys, posing as cops, that are kidnapping mob types and holding them for ransom. Richard Lynch happens to be one of these sleaze-bags, and he\\'s as creepy as ever. When one of the Seven Ups, who is posing as a limo driver at a funeral, gets his cover blown, he\\'s beaten and stuffed into the trunk of a car, which then leads to perhaps one of the most exciting car chases I\\'ve seen. Amazing though, how light traffic in NYC is for chase scenes, but still this is rather amazing as Scheider follows the two kidnappers through what I\\'m guessing is the Bronx and then onto a turnpike and then eventually, Scheider\\'s car comes to a screeching halt in one of the most heart-stopping finales to a chase scene that I\\'ve ever witnessed. Anyway, since the cop ends up dying, Scheider and his men are under suspicion because the police commissioner knows so little about their activities he wonders if THEY\\'RE on the make by kidnapping mobsters, so of course this kind of thinking needs to be nipped in the bud & Scheider is relentless getting to the bottom of things. Overall a decent cop action/drama, not really my thing but I liked this one. Look for Joe Spinell (Maniac) in a small role. 7 out of 10.'\n",
            " b'Simply delightful claymation feature from Nick Park and company spoofing such film-greats as \"King Kong\" and \"The Wolf Man\" has Wallace and Gromit as rabbit security finding it difficult to solve a major problem in their village..a giant were-rabbit is feasting lavishly on the vegetable crops of the citizens! What makes this even worse is that the great vegetable festival is about to commence and the citizens have all prepared dutifully to win the top of prize. What makes the situation even worse is Wallace is the reason behind the whole vegetable-eating rampage..he was testing out a new invention regarding taking his brain waves in an attempt to brain wash captured rabbits into disliking vegetable crops. What occurs is catastrophic as some sort of hybrid were-rabbit is created in the process..and it has more to do with Wallace than he could ever imagine. It\\'ll be up to his loyal(..and startlingly intelligent)and fast-thinking dog Gromit to save the day.<br /><br />This is a clever and imaginative effort from the crew behind other Oscar winning claymation features starring Wallace and Gromit. Seeing good ole-fashioned claymation is refreshing considering the CGI boom that has featured rather lackluster fare here recently as the industry spits out more and more mediocre product. Here, we get a full feature with witty humor and some wild stunts featuring marvelous animation, not to mention gut-busting sight gags.'\n",
            " b'I\\'ve just seen the movie today, and enjoyed it a lot, even if I won\\'t range it among my Resnais favorites. The story in itself is simple but full of allusions and \"non-dits\". It reminds me altogether of \"Smoking/No Smoking\", without the narrative twist, and \"On conna\\xc3\\xaet la chanson\", without the songs. I like the way Resnais creates a whole universe, half realistic, half dreamlike, with only six characters, limited sets and omnipresent snow. These six characters struggle with loneliness, butting against various obstacles : wrong match, bad luck, lack of will or perverse manipulation. The general atmosphere is kind of sad, but in a cool and soft way (snowy if I may say so), and with humorous touches, especially all that relates to videotapes and an invisible but perfectly audible grumpy old man played by Claude Rich (which makes seven characters actually). The acting is impeccable, with a special note for Sabine Azema, Andr\\xc3\\xa9 Dussolier and Pierre Arditi. And an interesting cast for Lambert Wilson (playing against type).'\n",
            " b\"This is the best picture about baseball since Redford whacked The Natural our way. Dennis Quaid and Rachel Griffiths light up the screen with a great story and a cast that seemed real enough to pull you into their lives. <br /><br />Laced with dreams - dripping in reality, the American Dream reignites after 9.11 with a true story about the Devil Ray's mid-life rookie, Jimmy Morris. Australian born actress, Rachel Griffiths, plays a native West Texan better than a lot of Texans I know; and Dennis Quaid was perfection \\xc2\\x85 cast as the wannabe, gonnabe and humble winner with as much psychological baggage as the average viewer in the audience. It's real. The on-screen chemistry works. If you like baseball heart-warmers, you're going to love this film. The ingredients for Americana and apple pie were all in there. My popcorn became the \\xc2\\x91a la mode'. <br /><br />And hey: buy the CD! The music rocks and carries the story magnificently! Syncing words and music pushes the story forward exactly the way it should, an area that disappoints me more often than not.<br /><br />Criticisms: I'd have given the baseball to somebody else. But Quaid has something to teach us all about \\xc2\\x91character' and heart. St. Rita and the nuns were a nice decoration, but they never really found their place in the story to open and close around them. A little long. Worth every minute in the last analysis. 8 / 10. <br /><br />\"\n",
            " b\"-love is hard to find in this fast food society that we live in so man called Hitch makes it duty to help men find love with women that they are beyond madly in love with. his rules are that he only helps you find love and not just some casual sex which seems like a great deal but soon word begins to spread around and people begin to get the wrong idea about what he does which begins to complicate the relationship with woman he just met that he is madly in love with.<br /><br />-I have to say it's really nice to see Will Smith in a movie that doesn't have him trying to save the world from aliens or robots. There are no jaw dropping effects nor is he showing off his beefed up body. He's just a normal human being in this movie which was really nice. He doesn't necessarily stretch his acting muscles in this movie but then again the story doesn't call for that but all the same it was nice to see him relaxed and not showing off his ripped body to make those of us without six packs jealous. His character here is as with all his characters likable, witty and very charming which is something that almost all the characters in this odd love tale seem to share. The Kevin James character is just a regular guy that needs help hooking up with the girl of his dreams which really makes you feel for the guy and root for him every step of the way. the only character that was a sore spot for me was the Mendez character because she's so cold and calculated that it's hard to believe that Smith could fall for her. He must love a challenge I guess.<br /><br />-now this is the part of the review in which I'll make a joke about how I would never need Hitch because I'm such a player but I just got through writing about 16 reviews for another web site plus I'm still working on a little project so I'm a little jaded right now. whiles the movie is packed with enough charm and likable characters with funny lines it slowly but surely falls into the sea of formulaic romantic movies in which after the big scene where the terrible secret comes out everyone is forgiven and the relationship is even better than before. But hey there's like 4000 movies about the underdog overcoming adversity so I guess one more movie having a predictable ending that's been done to almost death doesn't cause much harm. I really like the message of the movie as well because in the end you don't need a formula to get the right girl, just be yourself and all will fall into play which is theme of the movie and why it works so well. I'm sure if it had turned out that the James character gets the girl after following everything that the Smith character said then it would have being a pretty empty movie but as it stands it works really well.<br /><br />-despite being predictable this is a PERFECT date movie. It's sweet, it's funny, and it's romantic so anyone that watches this movie on a date should be getting some after it's over. and by some I mean sex\"\n",
            " b\"The plot was predictable, and fighting with guns gets old, but this is a definate movie to look at if you have a low IQ and don't really care about real movies. I would endulge in true art movies, like 'Clerks', 'Something about Mary', 'El Mariachi', or 'La Taqueria'.\"\n",
            " b'Skippy from Family Ties goes from clean-cut to metal kid in this fairly cheesy movie. The film seems like it was made in response to all those upset parents who claimed metal music was turning their kids evil or making them kill themselves - except in this one a dead satanic metal star is trying to come back from the grave (using Skippy to help out). And while the plot is corny and cliche, the corniness (for example, an evil green fog taking off a girl\\'s clothes)and the soundtrack are what make the movie so hilarious (and great). And of course, there\\'s nothing like Ozzy Osbourne playing a preacher who\\'s asking what happened to the love song :). Definitely a movie for having a few friends over for a good laugh. And while you\\'re at it, make it a double feature with Slumber Party Massacre 2 - there\\'s an \"evil rocker\" (as stated on the video box)driller killer in black leather w/fringe. A must see for cheesy movie fans.'\n",
            " b\"I came to this movie expecting a peek into the genius of Gregg Toland, having been a long time fan of Citizen Kane. I was not disappointed at all, the cinematography is excellent throughout, even if the pacing of the movie and its subject make it quite dull. The main problem is that Hollywood had little experience with focusing on a group rather than on a single character, so Ford's attempt is indeed laudable. A year later in Stagecoach he tried something similar but the action was much more focused on the Ringo-Dallas story. In The Grapes of Wrath the story is much more coherent, having been made after a novel not after a series of plays (even if splendidly adapted by Dudley Nichols). Much of the story seems to be too contrived, I mean how lonesome did those seafarers did get at sea that they behaved so erratically when they were ashore? I think for a modern audience the best things in the movie come from Toland (the movie really looks good, the guy truly had the eye of a painter) and for Wayne who is not necessarily great in his impersonation of a Sweede as he ain't holdin' a gun in his hand and he ain't chassin' no Apache or Comanche but he's doing a good job still.<br /><br />My favorite images are near the end when the sailors are drunk and they're looking for Ole, the lighting and camera angles produce an uncanny atmosphere that combines very well with the puzzling state the drunken men must be in. The first shot of the movie is also brilliant and if it wouldn't have been directed by Ford I could have imagined something surreal about it. Much of the movie actually reminded me of Querelle, Fassbinder's last film, a surreal story about the hardships of sailing.\"\n",
            " b\"I must admit that this is one of the worst movies I've ever seen. I thought Dennis Hopper had a little more taste than to appear in this kind of yeeeecchh. If this is supposed to be funny then I gotta look around for a new sense of humor. If you're thinking of buying this movie you'd better think again.\"\n",
            " b'*****************spoilers****************** I\\'m not sure if anything I wrote is actually a spoiler, but better safe... *******************************************<br /><br />Making a satirical movie about any tough issue like abortion, immigration, religion is bound to create some tensions. Monty Python\\'s \"The Life of Brian\" http://www.imdb.com/title/tt0079470/ drew plenty of controversy in its day. I\\'m a Christian yet I really liked Monty Python\\'s movie. Well, I\\'m a Mexican-American so my perspective certainly colors my view of \"A Day Without a Mexican\". That said, I enjoyed and laughed a lot in this movie. For me it\\'s message was to remember that immigrants are human beings, deserving of acknowledgement for their efforts. The interesting question is, why would that need to be said at all? It seems obvious to me that they\\'re people and deserve our compassion and respect, just like everyone else; but maybe it\\'s not obvious to everyone else. The director said he was inspired in part by what happened in California some years ago, with the infamous Prop. 187. I\\'ll certainly not touch that one here. My point is to stress that this movie is part of a historical and public dialogue about immigration in California. <br /><br />I say it adds good points to that dialogue. Immigrants contribute 100 billion to California\\'s economy yet take only 3 billion. Seems like a good deal to me. Now, maybe we can argue a long time about statistics but I\\'ll tell you one point very clear to me, there\\'s nothing wrong with people standing up for themselves. Seems like the American thing to do.<br /><br />I also see other points, like white Americans being portrayed in a negative light. I can understand someone objecting that this movie would portray white people as merely racist or, at best, foolish. It\\'s not a title anyone wants, I certainly don\\'t. Today I went to volunteer (giving food, clothes and friendship) in a tough neighborhood and lots of the people on that bus were white Americans. The people on the bus were of varied ethnic backgrounds, so were the people we helped. I wouldn\\'t want anyone insulting those kind people. I don\\'t think this movie did, it had plenty of likable white characters. However, it\\'s not easy to see from another\\'s perspective so I\\'m sure there are more qualified opinions out there on that point. .<br /><br />A satirical movie about a sensitive issue isn\\'t going to meet everyone\\'s expectations, but it\\'s good to laugh and let your mind open. That\\'s why I like Monty Python and that\\'s why I liked this movie.'\n",
            " b\"While this is horribly dated, I MUST insist...PLEASE, NO REMAKE! Frankly, it just won't help, as there's nothing which could be added or changed, contemporarily, to make this cinematically better.<br /><br />The novel upon which this is based, was atmospheric, well written, truly spooky work, but on film, it just doesn't translate. Most of King's written masterpieces fail to translate to film. I'm not sure why this is, but when you view this work, if you view it, you are likely to see just what I mean. <br /><br />The book? It's wonderful. It's not a masterpiece, but it's more than just entertaining. <br /><br />The movie? Do something else. You can thank me later.<br /><br />It rates a 3.1/10 from...<br /><br />the Fiend :.\"\n",
            " b'I cannot understand why this 1971 Hollywood production is currently only available through an Australian video company,but such is the unfortunate obscurity of this Peter Sellers classic(Leonard Maltin\\'s Movie Guide continues to grant it the same BOMB review they gave it in the 1970\\'s).With so many scene stealers on display,Sellers comes through with what may perhaps be his most hilarious role.It all begins with his discovery of a patient who expired at 11:15AM,but Sellers argues that the corpse is still living due to the fact that the new day doesn\\'t start until noon! The final straw for the beleaguered hospital commissioner comes in that very room,the DO NOT DISTURB sign still on the door; once he exits the room(handkerchief holding his nose),there is a brief conversation with the doctor with him- DOCTOR:\"We can\\'t save them all! That man was at least 85! COMMISSIONER: \"How old was he when he died,63?\" Harold Gould plays an inept surgeon who shuts his eyes when the knife digs in,Richard Lenz(whose \"pompous ass\" reporter in \"The Shootist\" was booted in the rear by John Wayne)plays the patient who exposes the fraud(he only came in for a chest x-ray,until they discovered he owns a house).Also in the cast on screen(and supplying some excellent country-flavored music)is Keith Allison,former guitarist for Paul Revere and the Raiders,who also worked with Michael Nesmith on a few Monkees recordings(and co-wrote \"Auntie\\'s Municipal Court\" with Nesmith on 1968\\'s \"The Birds,the Bees,and the Monkees\").Alas,there is some missing footage from this print,including a topless sequence with Uschi Digard near the end,also a scene with actress Kathleen Freeman(who wants to use green stamps to finance her operation),who gets locked by Sellers in his office,never to be seen again(in the uncut version,he returns to his office to find that she has written in large letters on the wall \"UNFAIR PRICK\" ; his response? \"you misspelled price!\").'\n",
            " b\"This is absolutely my favorite film of Robert Cummings. He's hysterical and lovable in every scene he is in. Bob plays a lawyer who is newly divorced from Rosalind Russell, and is determined to win her back. She on the other hand is determined to become a federal judge and wants nothing to do with him. A typical setup for the divorce-remorse films that came along in the 40s.<br /><br />Then there's Gig Young as the rival for Russell's affection, Clem Bevans as Mr. Roogle (it rhymes with bugle) and Marie McDonald adding a funny twist as the witness who keeps stalking Bob. For the most part, the cast is on top of their game and has some great moments. However, be forewarned, this is not Rosalind Russell's best work by a long shot. Despite the fact that she's given some wonderful performances (Auntie Mame, Trouble With Angels, etc) she's not very strong here and this is one situation where I really think another actress should have been cast. (Too bad Carole Lombard was already gone - she would have been PERFECT.) Some time the twists go a bit too far and get rather tedious on repeat watchings, but this is the screwball genre - it's not supposed to be realistic. It's a fun movie that still makes me laugh no matter how many times I see it. What more can you ask for?\"\n",
            " b'I knew the premise of this film, and obviously I can\\'t miss a good sounding film, especially from \"Master of Suspense\" director Sir Alfred Hitchcock. Basically tennis champ Guy Haines (Farley Granger) meets eccentric stranger, Bruno Anthony (Robert Walker) on a train travelling from Washington to New York. Bruno talks about a perfect murder, Guy hates his wife, and Bruno hates his father, so Bruno \"suggests\" swapping murders. Guy obviously didn\\'t take him seriously, until of course when Guy\\'s wife Miriam Joyce Haines (Kasey Rogers (or Laura Elliott)) is found murdered in an amusement park. Guy of course is the chief suspect, and Bruno keeps \"bumping into him\" reminding him of their \"plan\", and giving him more things to help him kill the father he wants dead. This murder enquiry and Bruno\\'s stalking are threatening his tennis career, and his relationship with the daughter of Sen. Morton (North by Northwest\\'s Leo G. Carroll), Anne (Ruth Roman). Bruno realises that Guy won\\'t do his murder, so he decides to plant the evidence at the crime scene to make him guilty, Guy\\'s monogrammed cigarette lighter at the amusement park. After his tennis game, Guy and Anne (who obviously found out the murder \"plan\") race to the amusement park to stop Bruno, and they have a fight on the speeding out-of-control carousel. Also starring Patricia Hitchcock (the director\\'s daughter) as Barbara Morton, Marion Lorne as Mrs. Anthony, Jonathan Hale as Mr. Anthony, Howard St. John as Police Capt. Turley and John Brown as Prof. Collins, and Hitchcock\\'s cameo is the Man boarding train carrying a double bass. Some interesting dialogue and character interactions, some good suspense moments, and of course the unforgettable carousel finale, a good classic film. It was nominated the Oscar for Best Cinematography. Sir Alfred Hitchcock was number 75 on The 100 Greatest Pop Culture Icons, the film was number 32 on 100 Years, 100 Thrills. Very good!'\n",
            " b'***SPOILERS*** ***SPOILERS*** I loved the set-up and consistently laughed throughout the entire movie. The acting was great, with my favorite part being Howard\\'s (Kevin Kline) attempts to be a \"manly man\". The fiance and parents did a great job as a supporting cast. Spoiler Warning: The acting of his conservative family\\'s acceptance and attempts to be polite were heartwarming and believable. My only problem with the end was the fact that Howard was actually gay. The movie is set-up as a \"be who you want to be\", but the movie actually does the opposite. Howard\\'s logic behind his \"discovery\" is the fact that he loves Barbra Streisand\\'s movies and enjoys dancing to music. His mannerisms and tastes appear to be gay, and it isn\\'t until it is pointed out to him that he realizes it. Rather than setting Howard free, it pigeon holes him. Oh, he likes to dance to music, than he must be gay. His confession at the marriage felt like a bending down to society\\'s wishes. In the end, the movie becomes a gay rights movie, which was not the original course. It almost becomes bland with the rest. I believe the movie would had been ultimately better had Howard been straight. It would have been truer to the message.'\n",
            " b'You don\\'t have to be Nostradamus to predict a sequel to the original and creepy film by Tom Holland was inevitable. The soul of a psycho-killer inside a doll was a big hit at the box-office and you know what that means...More from the same!! And fast! But hey, who\\'s complaining? Child\\'s Play 2 is fairly good. Some nice twists, several funny moments and a few very original killings. What more could you ask for in a horror sequel? Story doesn\\'t matter. In fact, can you call this a story ? Chucky comes back to life and continues to chase Andy to take over his soul. He has to kill everyone who comes too close to him and his secret and every time he\\'s about to call Dumballah ( or whatever ), he gets interrupted. Voil\\xc3\\xa0, there you have the plot of Child\\'s Play 2. Original ? No. Entertaining ? Yes, very. Jenny Agutter plays the role of Andy\\'s foster mom. I tell you, she still is as adorable as when she played her role in American Werewolf in London...only older, of course. Brad Dourif returns as the voice of Chucky and he seems to enjoy that very much. That\\'s about all there is to say about Child\\'s Play 2. Certainly not a \"urgently need-to-see movie\" but pure fun if you come across it on TV or something. It\\'s recommended to watch the first two films in a row. Child\\'s Play 3, however, should be avoided like the plague...yuk. The more recent Bride of Chucky uses a whole other style, but surely is worth a look. I\\'m quite sure more sequels have yet to come...'\n",
            " b\"I strongly recommend that you do not watch this film. The plot (roughly) is a cop on the edge, trying to catch a serial killer. No one else believes in him and the powers that be are trying to get rid of him. Meanwhile his wife has left him and taken their daughter with her. I really can't describe how mediocre this film was. James Woods does a passable James Woods impression and not much else. Tension is never built up and the ending must be one of the most stupid anti-climaxes ever. The thing that really annoyed me was the stupid line he uses at the end. What was that about? This kind of film has been done a million times before and each and every one of those million is probably better than this. Save yourself the 2 hours and do something else instead of watching this movie.\"\n",
            " b\"Derek Jarman has shown us time and time again that dialog is not his strong suit. He is a painter, and paint he does. His films are almost always visually splendid, but about as exciting to watch as paint that is already dry. Watch his movies in fast forward, the really fast setting that you can only get on DVD. In The Tempest, Jarman does very little with the script or the characters, using them as simply a lattice to hang a very long and well-constructed cinematographic frame. He even goes so far as to contradict Shakespeare's original script to achieve these excrucriatingly slow and lifeless scenes. There is none of the romance, magic, trickery, or urgency the script calls for, little spontaneity, and the character of Caliban in particular is reduced to a quivering and insane idiot of sorts, similar to Gaveston in Jarman's Edward II. It is too bad that this is just about the only film version of The Tempest available.\"\n",
            " b\"My husband and I enjoy The DoodleBops as much as our 8 month old baby does. We have bought him DVD's and CD's just so we can watch and listen to them ourselves. They are fun, energetic, and very entertaining. They encourage children to be active, share and care. They always have a positive message along with fun entertainment. Every time our son hears the theme song he quickly turns his head toward the television and starts bouncing up and down in excitement. Dee Dee is a wonderful singer, she has a great voice. Moe is a great dancer. I would recommend The DoodleBops to anyone with children. Our favorite song is The Bird Song. You just can not help but smile and want to dance when you hear it.\"\n",
            " b'Robin Williams is excellent in this movie and it is a pity the material is not enough of a match for him. This may work if you buy into the \"U-S-A! Number One!\" mentality but story wise nothing much happens. Quite a shame really since the movie is really trying to say something, and says it sincerely. It just doesn\\'t pack enough emotional punch.'\n",
            " b'After 20+ years, the characters, the situations, the wise-cracks....they are still funny! The plain faced (matzoh punim) Benjamin Stone seems to meet his demise at several turns in the film only to be lifted out of the mire by his new friend Alan Swann. The dinner scene in Brooklyn is priceless and is surely quoted often at Passover seders. The climactic fight scene in front of a live TV audience is inspired writing and gifted acting working in parallel. Like most movies, it\\'s the small details that you often miss that stay with you. The youngest writer who wears sports coats three sizes too big...the big shot TV star who tries to pacify an angry female staff member by offering to send over several pair of used shoes...the diversion in a restaurant to help Alan steal away with a thug\\'s girlfriend to the tune of \"Somebody Stole My Gal!\"<br /><br />You cannot miss this movie!'\n",
            " b\"What can I say about Troma and Decampitated? This film was so BAD! Bad in ways you would want to eject the tape during the first 20 mins. The cover is a good lead-on. You think it's a horror flick, but needed it is another Troma rip-off. The writing is BAD, some of the jokes are funny but then it gets old quickly, and the killer, concealed by a bee screen, can actually be seen! Avoid this one... unless you like cheap-worthless comedy.\"\n",
            " b'I\\'m fascinated by this show partly because I am a big fan of post-apocalyptic fiction (Alas Babylon, The Day After, Testament, The Last Ship, Threads, On the Beach, etc). I recommend \"Threads\"(BBC 1984). After viewing it, you will wonder why someone hasn\\'t done a good book or movie about Hurricane Katrina using it\\'s premise. <br /><br />But back to \"Jericho.\" A town of five thousand in western Kansas, most of whose residents have no visible means of support. Where is the big employer, like a shoe factory or a plastic-extruding plant? You can\\'t tell me the town is one to two thousand farmers and their families. <br /><br />Farmers would be too busy and too far away to hang out in a bar all day, they\\'d have supplies of gasoline and food at their farms, plus old agricultural machinery and other equipment that doesn\\'t require gasoline and there would be people who would have the knowledge to operate it. <br /><br />A town of five thousand would have a courthouse, a bank, and leading citizens. There would be power dynamics and struggles that were in place before the catastrophe. <br /><br />In the most recent episode we learn that the Greens have a ranch out in the countryside with a barn full of horses. A barn full of horses is a time-consuming high-maintenance endeavor, not some place you visit in the fourth episode because you need to get Jake Green worked up. <br /><br />We also learn that the people of Jericho turn to the mayor and police when their utilities stop working. There does not appear to be an electric substation anywhere near the town nor anyone in the town who appears to know where the electricity came from. <br /><br />It looks like the creators of this show got their concept for a small town from their experience with suburban bedroom communities. Jericho appears to work as if there were a large city no more than 20 minutes away by car, not like a town in the middle of nowhere.<br /><br />If you take a look at the IMDb cast & crew page for this show, you will note there are no credited producers, directors or writers. You see executive producers, art, sound, SFX and miscellaneous crew, but just like the town of Jericho itself, there are no responsible adults to look to or blame.'\n",
            " b\"This movie is said to be based on a true story. It started out pretty good and unraveled at a nice pace. After the first half of the movie, though, the characters that you are introduced to and all the previous plot twists become completely insignificant. In fact, the first half of the movie is completely different than the second half. Consequently, the movie turns into a story of of a broken family coming together, completely with the cheesiest attempts to jerk tears from the audience, some are even dull rip-off's from other films. For the most part, all the characters are well acted, which is the strongest thing that it really has going for it. I would have excluded the weird 35-year-old-looking daughter that is supposed to be a fragile little girl. Her appearances are very annoying and she doesn't help at all. Overall, I think this film kind of shows that families should leave everything up to the police in times of crisis. My biggest problem with the movie is how they find the missing kid (the point of the movie). The way that they do makes the previous 95% completely useless (*spoiler* the kid fell asleep at the wheel and ran off the road. A random truck driver had spotted him and came in to tell the cops *spoiler*). So, I suggest you watch the first half then catch the last 10 minutes if you are interested. 95% of this movie has no purpose.\"\n",
            " b\"What a great acoustic performance! I thought the audio quality was excellent and the setlist was well chosen. The personal nature of all of these songs force you to hang on every lyric. Almost every song on this is from CSNY's Looking Forward or Silver and Gold. If you want to see classic Neil tunes , watch Unplugged or Live in Berlin. If you want to see a rock and roll veteran wonderfully perform new stuff, this is a must see.\"\n",
            " b'This movie reminds me of a painting. The opening shot of the film is one of the best i\\'ve ever seen, and the emotion this film creates throughout if you open yourself, is something few movies can do. The story wasn\\'t anything great, but the storytelling, WOW! The director manages to get the right amount of energy and tone from his actors without it becoming boring or melodramatic. Instead I believed what I was watching. The closest surreal experience I can compare this to is with something like the \"Exorcist\" or \"Being There\" or some aspects of \"Wonder Boys.\" In other words the director/film makes you feel cold and confused at times, but never really loses you or me.']\n",
            "Found 25000 files belonging to 2 classes.\n",
            "<class 'numpy.ndarray'>\n",
            "(32,)\n"
          ]
        }
      ]
    },
    {
      "cell_type": "code",
      "source": [
        "num_instances=100\n",
        "# Generate regression targets.\n",
        "regression_target = np.random.rand(num_instances, 1).astype(np.float32)\n",
        "# Generate classification labels of five classes.\n",
        "classification_target = np.random.randint(5, size=num_instances)"
      ],
      "metadata": {
        "id": "7khf7aYYMj2H"
      },
      "execution_count": 56,
      "outputs": []
    },
    {
      "cell_type": "code",
      "source": [
        "# Initialize the multi with multiple inputs and outputs.\n",
        "model = ak.AutoModel(\n",
        "    inputs=[ak.ImageInput(), ak.StructuredDataInput()],\n",
        "    outputs=[\n",
        "        ak.RegressionHead(metrics=[\"mae\"]),\n",
        "        ak.ClassificationHead(loss=\"categorical_crossentropy\", metrics=[\"accuracy\"]),\n",
        "    ],\n",
        "    overwrite=True,\n",
        "    max_trials=2,\n",
        ")\n",
        "# Fit the model with prepared data.\n",
        "model.fit(\n",
        "    [train_image, structured_data],\n",
        "    [regression_target, classification_target],\n",
        "    epochs=3,\n",
        ")"
      ],
      "metadata": {
        "id": "lSxNQ4EkIEJE",
        "colab": {
          "base_uri": "https://localhost:8080/",
          "height": 372
        },
        "outputId": "c2e1bcae-4675-472e-cb6e-d02eb3e887b6"
      },
      "execution_count": 57,
      "outputs": [
        {
          "output_type": "error",
          "ename": "ValueError",
          "evalue": "ignored",
          "traceback": [
            "\u001b[0;31m---------------------------------------------------------------------------\u001b[0m",
            "\u001b[0;31mValueError\u001b[0m                                Traceback (most recent call last)",
            "\u001b[0;32m<ipython-input-57-3665464c1f15>\u001b[0m in \u001b[0;36m<module>\u001b[0;34m\u001b[0m\n\u001b[1;32m     13\u001b[0m     \u001b[0;34m[\u001b[0m\u001b[0mtrain_image\u001b[0m\u001b[0;34m,\u001b[0m \u001b[0mstructured_data\u001b[0m\u001b[0;34m]\u001b[0m\u001b[0;34m,\u001b[0m\u001b[0;34m\u001b[0m\u001b[0;34m\u001b[0m\u001b[0m\n\u001b[1;32m     14\u001b[0m     \u001b[0;34m[\u001b[0m\u001b[0mregression_target\u001b[0m\u001b[0;34m,\u001b[0m \u001b[0mclassification_target\u001b[0m\u001b[0;34m]\u001b[0m\u001b[0;34m,\u001b[0m\u001b[0;34m\u001b[0m\u001b[0;34m\u001b[0m\u001b[0m\n\u001b[0;32m---> 15\u001b[0;31m     \u001b[0mepochs\u001b[0m\u001b[0;34m=\u001b[0m\u001b[0;36m3\u001b[0m\u001b[0;34m,\u001b[0m\u001b[0;34m\u001b[0m\u001b[0;34m\u001b[0m\u001b[0m\n\u001b[0m\u001b[1;32m     16\u001b[0m )\n",
            "\u001b[0;32m/usr/local/lib/python3.7/dist-packages/autokeras/auto_model.py\u001b[0m in \u001b[0;36mfit\u001b[0;34m(self, x, y, batch_size, epochs, callbacks, validation_split, validation_data, verbose, **kwargs)\u001b[0m\n\u001b[1;32m    287\u001b[0m         \u001b[0;32mif\u001b[0m \u001b[0mvalidation_data\u001b[0m \u001b[0;32mis\u001b[0m \u001b[0;32mNone\u001b[0m \u001b[0;32mand\u001b[0m \u001b[0mvalidation_split\u001b[0m\u001b[0;34m:\u001b[0m\u001b[0;34m\u001b[0m\u001b[0;34m\u001b[0m\u001b[0m\n\u001b[1;32m    288\u001b[0m             dataset, validation_data = data_utils.split_dataset(\n\u001b[0;32m--> 289\u001b[0;31m                 \u001b[0mdataset\u001b[0m\u001b[0;34m,\u001b[0m \u001b[0mvalidation_split\u001b[0m\u001b[0;34m\u001b[0m\u001b[0;34m\u001b[0m\u001b[0m\n\u001b[0m\u001b[1;32m    290\u001b[0m             )\n\u001b[1;32m    291\u001b[0m \u001b[0;34m\u001b[0m\u001b[0m\n",
            "\u001b[0;32m/usr/local/lib/python3.7/dist-packages/autokeras/utils/data_utils.py\u001b[0m in \u001b[0;36msplit_dataset\u001b[0;34m(dataset, validation_split)\u001b[0m\n\u001b[1;32m     45\u001b[0m     \u001b[0;32mif\u001b[0m \u001b[0mnum_instances\u001b[0m \u001b[0;34m<\u001b[0m \u001b[0;36m2\u001b[0m\u001b[0;34m:\u001b[0m\u001b[0;34m\u001b[0m\u001b[0;34m\u001b[0m\u001b[0m\n\u001b[1;32m     46\u001b[0m         raise ValueError(\n\u001b[0;32m---> 47\u001b[0;31m             \u001b[0;34m\"The dataset should at least contain 2 batches to be split.\"\u001b[0m\u001b[0;34m\u001b[0m\u001b[0;34m\u001b[0m\u001b[0m\n\u001b[0m\u001b[1;32m     48\u001b[0m         )\n\u001b[1;32m     49\u001b[0m     validation_set_size = min(\n",
            "\u001b[0;31mValueError\u001b[0m: The dataset should at least contain 2 batches to be split."
          ]
        }
      ]
    },
    {
      "cell_type": "code",
      "source": [],
      "metadata": {
        "id": "PTaOFYv8iDDR"
      },
      "execution_count": null,
      "outputs": []
    }
  ]
}